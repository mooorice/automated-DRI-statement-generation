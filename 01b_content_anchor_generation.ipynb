{
 "cells": [
  {
   "cell_type": "code",
   "execution_count": 13,
   "metadata": {},
   "outputs": [],
   "source": [
    "import pandas as pd"
   ]
  },
  {
   "cell_type": "markdown",
   "metadata": {},
   "source": [
    "# Call GPT4o with prompts for:"
   ]
  },
  {
   "cell_type": "markdown",
   "metadata": {},
   "source": [
    "## General Similarity Scoring"
   ]
  },
  {
   "cell_type": "markdown",
   "metadata": {},
   "source": [
    "### Prompt"
   ]
  },
  {
   "cell_type": "markdown",
   "metadata": {},
   "source": [
    "du bist ein erfahrener journalist, schreibe einen absatz über die steigenden gesundheitskosten in der schweiz und welche aspekte man dabei beachten muss. nutze das angehangene dokument als grundlage. Erwähne folgende themen: Krankenversicherungssystem, soziale Aspekte, Spitalwesen, Gesundheitsversorgung, Gesundheitsprävention\n",
    "\n",
    "(added: \"data/99_anchor_data/B_Politikfeldanalyse_Gesundheitskosten_2024_08_02_INTERFACE\")\n",
    "\n",
    "(+ übersetze auf französisch, übersetze auf italienisch)"
   ]
  },
  {
   "cell_type": "markdown",
   "metadata": {},
   "source": [
    "### Output"
   ]
  },
  {
   "cell_type": "markdown",
   "metadata": {},
   "source": [
    "Die steigenden Gesundheitskosten in der Schweiz stellen eine komplexe Herausforderung dar, die durch verschiedene Faktoren beeinflusst wird. Das Krankenversicherungssystem spielt eine zentrale Rolle, da es die Finanzierung der Gesundheitsversorgung sichert, gleichzeitig aber auch durch die Struktur der obligatorischen Krankenpflegeversicherung (OKP) und den umfassenden Leistungskatalog Anreize für Mengenausweitungen schafft. Soziale Aspekte müssen beachtet werden, da die regressive Finanzierung über Kopfprämien einkommensschwächere Haushalte besonders belastet, obwohl Prämienverbilligungen eine gewisse Entlastung bieten. Im Bereich des Spitalwesens tragen die hohe Spitaldichte und die finanzielle Struktur der Spitalfinanzierung ebenfalls zur Kostensteigerung bei. Zudem ist die Gesundheitsversorgung oft fragmentiert, was zu ineffizienten Versorgungsabläufen führt und die Kosten weiter in die Höhe treibt. Schließlich wird das Potenzial der Gesundheitsprävention in der Schweiz noch immer nicht ausreichend genutzt, obwohl Prävention ein entscheidender Faktor sein könnte, um die langfristigen Gesundheitskosten zu senken​."
   ]
  },
  {
   "cell_type": "markdown",
   "metadata": {},
   "source": [
    "L'augmentation des coûts de la santé en Suisse représente un défi complexe, influencé par divers facteurs. Le système d'assurance-maladie joue un rôle central en assurant le financement des soins de santé, mais il crée également des incitations à l'expansion des prestations par la structure de l'assurance-maladie obligatoire (LAMal) et son large catalogue de prestations. Les aspects sociaux doivent être pris en compte, car le financement régressif par des primes uniformes pèse particulièrement lourd sur les ménages à faible revenu, bien que les réductions de primes offrent un certain allégement. Dans le domaine hospitalier, la forte densité de l'offre hospitalière et la structure financière du financement des hôpitaux contribuent également à l'augmentation des coûts. De plus, les soins de santé sont souvent fragmentés, ce qui entraîne des inefficacités dans les processus de prise en charge et augmente encore les coûts. Enfin, le potentiel de la prévention en matière de santé en Suisse n'est toujours pas pleinement exploité, bien que la prévention puisse être un facteur décisif pour réduire les coûts de santé à long terme​."
   ]
  },
  {
   "cell_type": "markdown",
   "metadata": {},
   "source": [
    "L'aumento dei costi sanitari in Svizzera rappresenta una sfida complessa, influenzata da diversi fattori. Il sistema di assicurazione sanitaria svolge un ruolo centrale, garantendo il finanziamento dell'assistenza sanitaria, ma allo stesso tempo crea incentivi per l'espansione delle prestazioni a causa della struttura dell'assicurazione obbligatoria delle cure (LAMal) e del suo ampio catalogo di prestazioni. Gli aspetti sociali devono essere considerati, poiché il finanziamento regressivo tramite premi uniformi grava particolarmente sui nuclei familiari a basso reddito, sebbene le riduzioni dei premi offrano un certo sollievo. Nel settore ospedaliero, l'alta densità ospedaliera e la struttura finanziaria del finanziamento degli ospedali contribuiscono anch'esse all'aumento dei costi. Inoltre, l'assistenza sanitaria è spesso frammentata, il che porta a inefficienze nei processi di cura e aumenta ulteriormente i costi. Infine, il potenziale della prevenzione sanitaria in Svizzera non è ancora pienamente sfruttato, sebbene la prevenzione possa essere un fattore decisivo per ridurre i costi sanitari a lungo termine​."
   ]
  },
  {
   "cell_type": "markdown",
   "metadata": {},
   "source": [
    "### Create DF"
   ]
  },
  {
   "cell_type": "code",
   "execution_count": 14,
   "metadata": {},
   "outputs": [],
   "source": [
    "# Define the paragraphs\n",
    "paragraphs = [\n",
    "    \"Die steigenden Gesundheitskosten in der Schweiz stellen eine komplexe Herausforderung dar, die durch verschiedene Faktoren beeinflusst wird. Das Krankenversicherungssystem spielt eine zentrale Rolle, da es die Finanzierung der Gesundheitsversorgung sichert, gleichzeitig aber auch durch die Struktur der obligatorischen Krankenpflegeversicherung (OKP) und den umfassenden Leistungskatalog Anreize für Mengenausweitungen schafft. Soziale Aspekte müssen beachtet werden, da die regressive Finanzierung über Kopfprämien einkommensschwächere Haushalte besonders belastet, obwohl Prämienverbilligungen eine gewisse Entlastung bieten. Im Bereich des Spitalwesens tragen die hohe Spitaldichte und die finanzielle Struktur der Spitalfinanzierung ebenfalls zur Kostensteigerung bei. Zudem ist die Gesundheitsversorgung oft fragmentiert, was zu ineffizienten Versorgungsabläufen führt und die Kosten weiter in die Höhe treibt. Schließlich wird das Potenzial der Gesundheitsprävention in der Schweiz noch immer nicht ausreichend genutzt, obwohl Prävention ein entscheidender Faktor sein könnte, um die langfristigen Gesundheitskosten zu senken.\",\n",
    "\n",
    "    \"L'augmentation des coûts de la santé en Suisse représente un défi complexe, influencé par divers facteurs. Le système d'assurance-maladie joue un rôle central en assurant le financement des soins de santé, mais il crée également des incitations à l'expansion des prestations par la structure de l'assurance-maladie obligatoire (LAMal) et son large catalogue de prestations. Les aspects sociaux doivent être pris en compte, car le financement régressif par des primes uniformes pèse particulièrement lourd sur les ménages à faible revenu, bien que les réductions de primes offrent un certain allégement. Dans le domaine hospitalier, la forte densité de l'offre hospitalière et la structure financière du financement des hôpitaux contribuent également à l'augmentation des coûts. De plus, les soins de santé sont souvent fragmentés, ce qui entraîne des inefficacités dans les processus de prise en charge et augmente encore les coûts. Enfin, le potentiel de la prévention en matière de santé en Suisse n'est toujours pas pleinement exploité, bien que la prévention puisse être un facteur décisif pour réduire les coûts de santé à long terme.\",\n",
    "\n",
    "    \"L'aumento dei costi sanitari in Svizzera rappresenta una sfida complessa, influenzata da diversi fattori. Il sistema di assicurazione sanitaria svolge un ruolo centrale, garantendo il finanziamento dell'assistenza sanitaria, ma allo stesso tempo crea incentivi per l'espansione delle prestazioni a causa della struttura dell'assicurazione obbligatoria delle cure (LAMal) e del suo ampio catalogo di prestazioni. Gli aspetti sociali devono essere considerati, poiché il finanziamento regressivo tramite premi uniformi grava particolarmente sui nuclei familiari a basso reddito, sebbene le riduzioni dei premi offrano un certo sollievo. Nel settore ospedaliero, l'alta densità ospedaliera e la struttura finanziaria del finanziamento degli ospedali contribuiscono anch'esse all'aumento dei costi. Inoltre, l'assistenza sanitaria è spesso frammentata, il che porta a inefficienze nei processi di cura e aumenta ulteriormente i costi. Infine, il potenziale della prevenzione sanitaria in Svizzera non è ancora pienamente sfruttato, sebbene la prevenzione possa essere un fattore decisivo per ridurre i costi sanitari a lungo termine.\"\n",
    "]\n",
    "\n",
    "# Create a DataFrame\n",
    "df = pd.DataFrame(paragraphs, columns=[\"text_0\"])"
   ]
  },
  {
   "cell_type": "markdown",
   "metadata": {},
   "source": [
    "## Health system of Switzerland and non-incremental policy reforms\n"
   ]
  },
  {
   "cell_type": "markdown",
   "metadata": {},
   "source": [
    "### Prompt"
   ]
  },
  {
   "cell_type": "markdown",
   "metadata": {},
   "source": [
    "du bist ein erfahrener journalist, schreibe einen zusammenfassenden absatz über \"Health system of Switzerland and non-incremental policy reforms\" auf Basis der Politikfeldanalyse\n",
    "\n",
    "(added: \"data/99_anchor_data/B_Politikfeldanalyse_Gesundheitskosten_2024_08_02_INTERFACE\")\n",
    "\n",
    "(+ übersetze auf französisch, übersetze auf italienisch)"
   ]
  },
  {
   "cell_type": "markdown",
   "metadata": {},
   "source": [
    "### Output"
   ]
  },
  {
   "cell_type": "markdown",
   "metadata": {},
   "source": [
    "Das Schweizer Gesundheitssystem zeichnet sich durch eine hohe Komplexität und Vielfalt der Akteure aus, was es schwierig macht, nicht-inkrementelle, also umfassende und tiefgreifende Reformen durchzuführen. Die Politikfeldanalyse zeigt, dass die steigenden Gesundheitskosten von einer Vielzahl von Faktoren beeinflusst werden, darunter die Ausweitung der Behandlungsmenge, der demografische Wandel und die technologische Entwicklung. Reformvorschläge umfassen eine Änderung der Vergütungsmodelle, die Erhöhung der Eigenbeteiligung der Patienten und eine mögliche Reduktion des Leistungskatalogs der obligatorischen Krankenpflegeversicherung (OKP). Diese Ansätze bergen jedoch erhebliche Zielkonflikte, insbesondere hinsichtlich der sozialen Gerechtigkeit und der Chancengleichheit im Zugang zu Gesundheitsleistungen. Der politische Prozess in der Schweiz, geprägt durch föderale Strukturen und direkte Demokratie, führt oft dazu, dass Reformen schrittweise und inkrementell erfolgen, anstatt umfassende Systemveränderungen anzustreben."
   ]
  },
  {
   "cell_type": "markdown",
   "metadata": {},
   "source": [
    "Le système de santé suisse se caractérise par une grande complexité et une diversité d'acteurs, ce qui rend difficile la mise en œuvre de réformes non incrémentales, c'est-à-dire globales et profondes. L'analyse des politiques publiques montre que l'augmentation des coûts de la santé est influencée par une multitude de facteurs, dont l'augmentation du volume des traitements, le changement démographique et le développement technologique. Les propositions de réforme incluent une modification des modèles de rémunération, l'augmentation de la participation financière des patients et une possible réduction du catalogue des prestations de l'assurance-maladie obligatoire (LAMal). Cependant, ces approches entraînent d'importants conflits d'objectifs, notamment en ce qui concerne la justice sociale et l'égalité des chances dans l'accès aux services de santé. Le processus politique en Suisse, marqué par des structures fédérales et la démocratie directe, conduit souvent à des réformes progressives et incrémentales plutôt qu'à des changements systémiques globaux."
   ]
  },
  {
   "cell_type": "markdown",
   "metadata": {},
   "source": [
    "Il sistema sanitario svizzero si caratterizza per la grande complessità e la diversità degli attori, il che rende difficile l'attuazione di riforme non incrementali, ossia globali e profonde. L'analisi delle politiche pubbliche mostra che l'aumento dei costi sanitari è influenzato da una molteplicità di fattori, tra cui l'espansione del volume dei trattamenti, il cambiamento demografico e lo sviluppo tecnologico. Le proposte di riforma includono una modifica dei modelli di remunerazione, l'aumento della partecipazione finanziaria dei pazienti e una possibile riduzione del catalogo delle prestazioni dell'assicurazione obbligatoria delle cure medico-sanitarie (LAMal). Tuttavia, questi approcci comportano importanti conflitti di obiettivi, in particolare per quanto riguarda la giustizia sociale e l'uguaglianza di accesso ai servizi sanitari. Il processo politico in Svizzera, caratterizzato da strutture federali e democrazia diretta, porta spesso a riforme progressive e incrementali anziché a cambiamenti sistemici globali."
   ]
  },
  {
   "cell_type": "markdown",
   "metadata": {},
   "source": [
    "### Create DF"
   ]
  },
  {
   "cell_type": "code",
   "execution_count": 15,
   "metadata": {},
   "outputs": [],
   "source": [
    "# Define the paragraphs\n",
    "paragraphs = [\n",
    "    \"Das Schweizer Gesundheitssystem zeichnet sich durch eine hohe Komplexität und Vielfalt der Akteure aus, was es schwierig macht, nicht-inkrementelle, also umfassende und tiefgreifende Reformen durchzuführen. Die Politikfeldanalyse zeigt, dass die steigenden Gesundheitskosten von einer Vielzahl von Faktoren beeinflusst werden, darunter die Ausweitung der Behandlungsmenge, der demografische Wandel und die technologische Entwicklung. Reformvorschläge umfassen eine Änderung der Vergütungsmodelle, die Erhöhung der Eigenbeteiligung der Patienten und eine mögliche Reduktion des Leistungskatalogs der obligatorischen Krankenpflegeversicherung (OKP). Diese Ansätze bergen jedoch erhebliche Zielkonflikte, insbesondere hinsichtlich der sozialen Gerechtigkeit und der Chancengleichheit im Zugang zu Gesundheitsleistungen. Der politische Prozess in der Schweiz, geprägt durch föderale Strukturen und direkte Demokratie, führt oft dazu, dass Reformen schrittweise und inkrementell erfolgen, anstatt umfassende Systemveränderungen anzustreben.\",\n",
    "\n",
    "    \"Le système de santé suisse se caractérise par une grande complexité et une diversité d'acteurs, ce qui rend difficile la mise en œuvre de réformes non incrémentales, c'est-à-dire globales et profondes. L'analyse des politiques publiques montre que l'augmentation des coûts de la santé est influencée par une multitude de facteurs, dont l'augmentation du volume des traitements, le changement démographique et le développement technologique. Les propositions de réforme incluent une modification des modèles de rémunération, l'augmentation de la participation financière des patients et une possible réduction du catalogue des prestations de l'assurance-maladie obligatoire (LAMal). Cependant, ces approches entraînent d'importants conflits d'objectifs, notamment en ce qui concerne la justice sociale et l'égalité des chances dans l'accès aux services de santé. Le processus politique en Suisse, marqué par des structures fédérales et la démocratie directe, conduit souvent à des réformes progressives et incrémentales plutôt qu'à des changements systémiques globaux.\",\n",
    "\n",
    "    \"Il sistema sanitario svizzero si caratterizza per la grande complessità e la diversità degli attori, il che rende difficile l'attuazione di riforme non incrementali, ossia globali e profonde. L'analisi delle politiche pubbliche mostra che l'aumento dei costi sanitari è influenzato da una molteplicità di fattori, tra cui l'espansione del volume dei trattamenti, il cambiamento demografico e lo sviluppo tecnologico. Le proposte di riforma includono una modifica dei modelli di remunerazione, l'aumento della partecipazione finanziaria dei pazienti e una possibile riduzione del catalogo delle prestazioni dell'assicurazione obbligatoria delle cure medico-sanitarie (LAMal). Tuttavia, questi approcci comportano importanti conflitti di obiettivi, in particolare per quanto riguarda la giustizia sociale e l'uguaglianza di accesso ai servizi sanitari. Il processo politico in Svizzera, caratterizzato da strutture federali e democrazia diretta, porta spesso a riforme progressive e incrementali anziché a cambiamenti sistemici globali.\"\n",
    "]\n",
    "\n",
    "# Create a DataFrame\n",
    "df['text_1'] = paragraphs"
   ]
  },
  {
   "cell_type": "markdown",
   "metadata": {},
   "source": [
    "## Increasing utilisation of healthcare services per person\n"
   ]
  },
  {
   "cell_type": "markdown",
   "metadata": {},
   "source": [
    "### Prompt"
   ]
  },
  {
   "cell_type": "markdown",
   "metadata": {},
   "source": [
    "du bist ein erfahrener journalist, schreibe einen zusammenfassenden absatz über \"Increasing utilisation of healthcare services per person\" auf Basis der Politikfeldanalyse\n",
    "\n",
    "(added: \"data/99_anchor_data/B_Politikfeldanalyse_Gesundheitskosten_2024_08_02_INTERFACE\")\n",
    "\n",
    "(+ übersetze auf französisch, übersetze auf italienisch)"
   ]
  },
  {
   "cell_type": "markdown",
   "metadata": {},
   "source": [
    "### Output"
   ]
  },
  {
   "cell_type": "markdown",
   "metadata": {},
   "source": [
    "Die Politikfeldanalyse zur \"steigenden Nutzung von Gesundheitsdienstleistungen pro Person\" beleuchtet die zunehmende Inanspruchnahme von Gesundheitsleistungen in der Schweiz. Ein zentraler Faktor ist, dass die durchschnittlichen Bruttoleistungen pro versicherte Person von 2012 bis 2022 kontinuierlich gestiegen sind. Diese Entwicklung ist nicht allein durch die Alterung der Bevölkerung oder die Zunahme von Krankheiten zu erklären. Vielmehr wird ein Großteil des Anstiegs durch eine Mengenausweitung der erbrachten Leistungen verursacht, die sowohl angebots- als auch nachfrageseitig bedingt ist. Auf der Angebotsseite führen insbesondere Anreize zur Erbringung zusätzlicher Leistungen im Rahmen des Einzelleistungsvergütungssystems zu einer Kostensteigerung. Auf der Nachfrageseite trägt das Phänomen des \"Moral Hazard\" dazu bei, dass Versicherte tendenziell mehr Leistungen in Anspruch nehmen, als sie tatsächlich benötigen. Diese Entwicklungen führen zu einer signifikanten Erhöhung der Gesundheitskosten, was in der Politik zunehmend diskutiert und mit verschiedenen Reformvorschlägen, wie der Ablösung der Einzelleistungsvergütung oder der Einführung höherer Selbstbeteiligungen, adressiert wird."
   ]
  },
  {
   "cell_type": "markdown",
   "metadata": {},
   "source": [
    "L'analyse des politiques sur « l'augmentation de l'utilisation des services de santé par personne » examine l'accroissement continu du recours aux services de santé en Suisse. Un facteur clé est que les prestations brutes moyennes par personne assurée ont augmenté de manière continue entre 2012 et 2022. Cette évolution ne peut être expliquée uniquement par le vieillissement de la population ou par l'augmentation des maladies. Une grande partie de cette hausse est plutôt due à une expansion du volume des prestations fournies, causée à la fois par des facteurs liés à l'offre et à la demande. Du côté de l'offre, les incitations à fournir des prestations supplémentaires dans le cadre du système de rémunération à l'acte entraînent une augmentation des coûts. Du côté de la demande, le phénomène du « risque moral » pousse les assurés à consommer plus de prestations qu'ils n'en ont réellement besoin. Ces évolutions entraînent une augmentation significative des coûts de la santé, ce qui suscite de plus en plus de débats politiques et est abordé par diverses propositions de réforme, telles que le remplacement de la rémunération à l'acte ou l'introduction de contributions plus élevées des assurés."
   ]
  },
  {
   "cell_type": "markdown",
   "metadata": {},
   "source": [
    "L'analisi delle politiche sull'«aumento dell'utilizzo dei servizi sanitari per persona» esamina il crescente ricorso ai servizi sanitari in Svizzera. Un fattore chiave è che le prestazioni lorde medie per persona assicurata sono aumentate costantemente tra il 2012 e il 2022. Questa evoluzione non può essere spiegata solo dall'invecchiamento della popolazione o dall'aumento delle malattie. Gran parte di questo aumento è piuttosto dovuto a un'espansione del volume delle prestazioni fornite, causata sia da fattori legati all'offerta che alla domanda. Sul versante dell'offerta, gli incentivi a fornire prestazioni aggiuntive nel contesto del sistema di remunerazione a prestazione determinano un aumento dei costi. Sul versante della domanda, il fenomeno del «rischio morale» porta gli assicurati a usufruire di più prestazioni di quelle di cui hanno realmente bisogno. Queste evoluzioni comportano un aumento significativo dei costi sanitari, che è sempre più al centro del dibattito politico ed è affrontato da varie proposte di riforma, come la sostituzione della remunerazione a prestazione o l'introduzione di una maggiore partecipazione finanziaria degli assicurati."
   ]
  },
  {
   "cell_type": "markdown",
   "metadata": {},
   "source": [
    "### Add to DF"
   ]
  },
  {
   "cell_type": "code",
   "execution_count": 16,
   "metadata": {},
   "outputs": [],
   "source": [
    "# Define the paragraphs\n",
    "paragraphs = [\n",
    "    \"\"\"Die Politikfeldanalyse zur \"steigenden Nutzung von Gesundheitsdienstleistungen pro Person\" beleuchtet die zunehmende Inanspruchnahme von Gesundheitsleistungen in der Schweiz. Ein zentraler Faktor ist, dass die durchschnittlichen Bruttoleistungen pro versicherte Person von 2012 bis 2022 kontinuierlich gestiegen sind. Diese Entwicklung ist nicht allein durch die Alterung der Bevölkerung oder die Zunahme von Krankheiten zu erklären. Vielmehr wird ein Großteil des Anstiegs durch eine Mengenausweitung der erbrachten Leistungen verursacht, die sowohl angebots- als auch nachfrageseitig bedingt ist. Auf der Angebotsseite führen insbesondere Anreize zur Erbringung zusätzlicher Leistungen im Rahmen des Einzelleistungsvergütungssystems zu einer Kostensteigerung. Auf der Nachfrageseite trägt das Phänomen des \"Moral Hazard\" dazu bei, dass Versicherte tendenziell mehr Leistungen in Anspruch nehmen, als sie tatsächlich benötigen. Diese Entwicklungen führen zu einer signifikanten Erhöhung der Gesundheitskosten, was in der Politik zunehmend diskutiert und mit verschiedenen Reformvorschlägen, wie der Ablösung der Einzelleistungsvergütung oder der Einführung höherer Selbstbeteiligungen, adressiert wird.\"\"\",\n",
    "\n",
    "    \"L'analyse des politiques sur « l'augmentation de l'utilisation des services de santé par personne » examine l'accroissement continu du recours aux services de santé en Suisse. Un facteur clé est que les prestations brutes moyennes par personne assurée ont augmenté de manière continue entre 2012 et 2022. Cette évolution ne peut être expliquée uniquement par le vieillissement de la population ou par l'augmentation des maladies. Une grande partie de cette hausse est plutôt due à une expansion du volume des prestations fournies, causée à la fois par des facteurs liés à l'offre et à la demande. Du côté de l'offre, les incitations à fournir des prestations supplémentaires dans le cadre du système de rémunération à l'acte entraînent une augmentation des coûts. Du côté de la demande, le phénomène du « risque moral » pousse les assurés à consommer plus de prestations qu'ils n'en ont réellement besoin. Ces évolutions entraînent une augmentation significative des coûts de la santé, ce qui suscite de plus en plus de débats politiques et est abordé par diverses propositions de réforme, telles que le remplacement de la rémunération à l'acte ou l'introduction de contributions plus élevées des assurés.\",\n",
    "\n",
    "    \"L'analisi delle politiche sull'«aumento dell'utilizzo dei servizi sanitari per persona» esamina il crescente ricorso ai servizi sanitari in Svizzera. Un fattore chiave è che le prestazioni lorde medie per persona assicurata sono aumentate costantemente tra il 2012 e il 2022. Questa evoluzione non può essere spiegata solo dall'invecchiamento della popolazione o dall'aumento delle malattie. Gran parte di questo aumento è piuttosto dovuto a un'espansione del volume delle prestazioni fornite, causata sia da fattori legati all'offerta che alla domanda. Sul versante dell'offerta, gli incentivi a fornire prestazioni aggiuntive nel contesto del sistema di remunerazione a prestazione determinano un aumento dei costi. Sul versante della domanda, il fenomeno del «rischio morale» porta gli assicurati a usufruire di più prestazioni di quelle di cui hanno realmente bisogno. Queste evoluzioni comportano un aumento significativo dei costi sanitari, che è sempre più al centro del dibattito politico ed è affrontato da varie proposte di riforma, come la sostituzione della remunerazione a prestazione o l'introduzione di una maggiore partecipazione finanziaria degli assicurati.\"\n",
    "]\n",
    "\n",
    "# Add to DataFrame\n",
    "df['text_2'] = paragraphs"
   ]
  },
  {
   "cell_type": "markdown",
   "metadata": {},
   "source": [
    "## Hospital planning and financing\n"
   ]
  },
  {
   "cell_type": "markdown",
   "metadata": {},
   "source": [
    "### Prompt"
   ]
  },
  {
   "cell_type": "markdown",
   "metadata": {},
   "source": [
    "du bist ein erfahrener journalist, schreibe einen zusammenfassenden absatz über \"Hospital planning and financing\" auf Basis der Politikfeldanalyse\n",
    "\n",
    "(added: \"data/99_anchor_data/B_Politikfeldanalyse_Gesundheitskosten_2024_08_02_INTERFACE\")\n",
    "\n",
    "(+ übersetze auf französisch, übersetze auf italienisch)"
   ]
  },
  {
   "cell_type": "markdown",
   "metadata": {},
   "source": [
    "### Output"
   ]
  },
  {
   "cell_type": "markdown",
   "metadata": {},
   "source": [
    "Die Politikfeldanalyse im Bereich \"Hospital planning and financing\" (Krankenhausplanung und -finanzierung) thematisiert die komplexen Herausforderungen und Zielkonflikte im Gesundheitswesen, insbesondere im Kontext steigender Gesundheitskosten. Ein zentrales Problem ist die hohe Spitaldichte in der Schweiz, die zu erheblichen Kostensteigerungen führt. Dies liegt unter anderem an der Vielzahl kleinerer Krankenhäuser, die ineffizient arbeiten und häufig nicht ausgelastet sind. Gleichzeitig spielt die Finanzierung eine kritische Rolle, da diese über verschiedene Regimes, wie die obligatorische Krankenpflegeversicherung (OKP), Zusatzversicherungen und staatliche Mittel, erfolgt. Die Analyse hebt die Bedeutung einer effektiven Krankenhausplanung hervor, um die Versorgung sicherzustellen und gleichzeitig die Kosten zu kontrollieren. Hierbei werden mögliche Reformansätze, wie die Zentralisierung der Spitalversorgung und die Einführung neuer Finanzierungsmodelle, diskutiert, wobei stets ein Balanceakt zwischen Kosteneffizienz, Versorgungsqualität und Zugänglichkeit der Gesundheitsdienste notwendig ist."
   ]
  },
  {
   "cell_type": "markdown",
   "metadata": {},
   "source": [
    "L'analyse des politiques publiques dans le domaine de la planification et du financement des hôpitaux met en lumière les défis complexes et les conflits d'objectifs dans le système de santé, en particulier dans le contexte de la hausse des coûts de santé. Un problème central est la densité élevée des hôpitaux en Suisse, ce qui entraîne une augmentation significative des coûts. Cela s'explique en partie par le grand nombre de petits hôpitaux qui fonctionnent de manière inefficace et sont souvent sous-utilisés. Parallèlement, le financement joue un rôle crucial, étant assuré par différents régimes, tels que l'assurance-maladie obligatoire (LAMal), les assurances complémentaires et les fonds publics. L'analyse souligne l'importance d'une planification hospitalière efficace pour garantir l'accès aux soins tout en maîtrisant les coûts. Des réformes potentielles, telles que la centralisation des services hospitaliers et l'introduction de nouveaux modèles de financement, sont discutées, en tenant toujours compte de la nécessité de trouver un équilibre entre l'efficacité des coûts, la qualité des soins et l'accessibilité des services de santé."
   ]
  },
  {
   "cell_type": "markdown",
   "metadata": {},
   "source": [
    "L'analisi delle politiche nel campo della pianificazione e del finanziamento degli ospedali mette in evidenza le sfide complesse e i conflitti di obiettivi nel sistema sanitario, in particolare nel contesto dell'aumento dei costi sanitari. Un problema centrale è l'elevata densità ospedaliera in Svizzera, che comporta un aumento significativo dei costi. Ciò è dovuto, in parte, al gran numero di piccoli ospedali che operano in modo inefficiente e che spesso non sono sfruttati appieno. Parallelamente, il finanziamento gioca un ruolo cruciale, essendo garantito da diversi regimi, come l'assicurazione obbligatoria delle cure medico-sanitarie (LAMal), le assicurazioni complementari e i fondi statali. L'analisi sottolinea l'importanza di una pianificazione ospedaliera efficace per garantire l'accesso alle cure mantenendo sotto controllo i costi. Vengono discusse potenziali riforme, come la centralizzazione dei servizi ospedalieri e l'introduzione di nuovi modelli di finanziamento, tenendo sempre presente la necessità di trovare un equilibrio tra l'efficienza dei costi, la qualità delle cure e l'accessibilità dei servizi sanitari."
   ]
  },
  {
   "cell_type": "markdown",
   "metadata": {},
   "source": [
    "### Add to DF"
   ]
  },
  {
   "cell_type": "code",
   "execution_count": 17,
   "metadata": {},
   "outputs": [],
   "source": [
    "# Define the paragraphs\n",
    "paragraphs = [\n",
    "    \"\"\"Die Politikfeldanalyse im Bereich \"Hospital planning and financing\" (Krankenhausplanung und -finanzierung) thematisiert die komplexen Herausforderungen und Zielkonflikte im Gesundheitswesen, insbesondere im Kontext steigender Gesundheitskosten. Ein zentrales Problem ist die hohe Spitaldichte in der Schweiz, die zu erheblichen Kostensteigerungen führt. Dies liegt unter anderem an der Vielzahl kleinerer Krankenhäuser, die ineffizient arbeiten und häufig nicht ausgelastet sind. Gleichzeitig spielt die Finanzierung eine kritische Rolle, da diese über verschiedene Regimes, wie die obligatorische Krankenpflegeversicherung (OKP), Zusatzversicherungen und staatliche Mittel, erfolgt. Die Analyse hebt die Bedeutung einer effektiven Krankenhausplanung hervor, um die Versorgung sicherzustellen und gleichzeitig die Kosten zu kontrollieren. Hierbei werden mögliche Reformansätze, wie die Zentralisierung der Spitalversorgung und die Einführung neuer Finanzierungsmodelle, diskutiert, wobei stets ein Balanceakt zwischen Kosteneffizienz, Versorgungsqualität und Zugänglichkeit der Gesundheitsdienste notwendig ist.\"\"\",\n",
    "\n",
    "    \"L'analyse des politiques publiques dans le domaine de la planification et du financement des hôpitaux met en lumière les défis complexes et les conflits d'objectifs dans le système de santé, en particulier dans le contexte de la hausse des coûts de santé. Un problème central est la densité élevée des hôpitaux en Suisse, ce qui entraîne une augmentation significative des coûts. Cela s'explique en partie par le grand nombre de petits hôpitaux qui fonctionnent de manière inefficace et sont souvent sous-utilisés. Parallèlement, le financement joue un rôle crucial, étant assuré par différents régimes, tels que l'assurance-maladie obligatoire (LAMal), les assurances complémentaires et les fonds publics. L'analyse souligne l'importance d'une planification hospitalière efficace pour garantir l'accès aux soins tout en maîtrisant les coûts. Des réformes potentielles, telles que la centralisation des services hospitaliers et l'introduction de nouveaux modèles de financement, sont discutées, en tenant toujours compte de la nécessité de trouver un équilibre entre l'efficacité des coûts, la qualité des soins et l'accessibilité des services de santé.\",\n",
    "\n",
    "    \"L'analisi delle politiche nel campo della pianificazione e del finanziamento degli ospedali mette in evidenza le sfide complesse e i conflitti di obiettivi nel sistema sanitario, in particolare nel contesto dell'aumento dei costi sanitari. Un problema centrale è l'elevata densità ospedaliera in Svizzera, che comporta un aumento significativo dei costi. Ciò è dovuto, in parte, al gran numero di piccoli ospedali che operano in modo inefficiente e che spesso non sono sfruttati appieno. Parallelamente, il finanziamento gioca un ruolo cruciale, essendo garantito da diversi regimi, come l'assicurazione obbligatoria delle cure medico-sanitarie (LAMal), le assicurazioni complementari e i fondi statali. L'analisi sottolinea l'importanza di una pianificazione ospedaliera efficace per garantire l'accesso alle cure mantenendo sotto controllo i costi. Vengono discusse potenziali riforme, come la centralizzazione dei servizi ospedalieri e l'introduzione di nuovi modelli di finanziamento, tenendo sempre presente la necessità di trovare un equilibrio tra l'efficienza dei costi, la qualità delle cure e l'accessibilità dei servizi sanitari.\"\n",
    "]\n",
    "\n",
    "# Add to DataFrame\n",
    "df['text_3'] = paragraphs"
   ]
  },
  {
   "cell_type": "markdown",
   "metadata": {},
   "source": [
    "## Design/Configuration/Organisation of Compulsory health insurance"
   ]
  },
  {
   "cell_type": "markdown",
   "metadata": {},
   "source": [
    "### Prompt"
   ]
  },
  {
   "cell_type": "markdown",
   "metadata": {},
   "source": [
    "du bist ein erfahrener journalist, schreibe einen zusammenfassenden absatz über \"Design/Configuration/Organisation of Compulsory health insurance\" auf Basis der Politikfeldanalyse\n",
    "\n",
    "(added: \"data/99_anchor_data/B_Politikfeldanalyse_Gesundheitskosten_2024_08_02_INTERFACE\")\n",
    "\n",
    "(+ übersetze auf französisch, übersetze auf italienisch)"
   ]
  },
  {
   "cell_type": "markdown",
   "metadata": {},
   "source": [
    "### Output"
   ]
  },
  {
   "cell_type": "markdown",
   "metadata": {},
   "source": [
    "Die Politikfeldanalyse zur Gestaltung, Konfiguration und Organisation der obligatorischen Krankenversicherung (OKP) in der Schweiz beleuchtet die komplexe Struktur und die wesentlichen Herausforderungen dieses Systems. Das OKP-System, das auf einem Versicherungsobligatorium mit Aufnahmepflicht basiert, deckt einen umfassenden Leistungskatalog ab, der durch gesetzlich definierte Kriterien geregelt ist. Die Prämien sind nicht einkommensabhängig, sondern richten sich nach dem Wohnort und dem gewählten Versicherungsmodell, was zu einer regressiven Finanzierungsstruktur führt, bei der einkommensschwächere Haushalte proportional stärker belastet werden. Die Analyse zeigt auf, dass das System durch Fehlanreize wie die Mengenausweitung, insbesondere im ambulanten und stationären Bereich, unter Druck steht. Zudem wird der zunehmende Leistungskatalog als ein weiterer Kostentreiber identifiziert. Lösungsvorschläge umfassen unter anderem die Reform der Vergütungssysteme, eine stärkere Eigenbeteiligung der Versicherten und die Beschränkung des Leistungskatalogs, wobei jedoch Zielkonflikte und potenzielle negative Auswirkungen auf die Versicherten berücksichtigt werden müssen."
   ]
  },
  {
   "cell_type": "markdown",
   "metadata": {},
   "source": [
    "L'analyse des politiques concernant la conception, la configuration et l'organisation de l'assurance maladie obligatoire (AMO) en Suisse met en lumière la structure complexe et les principaux défis de ce système. Le système AMO, basé sur une obligation d'assurance avec obligation d'accepter tout assuré, couvre un large catalogue de prestations réglementé par des critères définis par la loi. Les primes ne sont pas ajustées en fonction des revenus, mais dépendent du lieu de résidence et du modèle d'assurance choisi, ce qui conduit à une structure de financement régressive, où les ménages à faible revenu sont proportionnellement plus lourdement chargés. L'analyse montre que le système est sous pression en raison de mauvaises incitations telles que l'augmentation du volume des prestations, en particulier dans les secteurs ambulatoire et hospitalier. De plus, l'élargissement du catalogue des prestations est identifié comme un autre facteur de coût. Parmi les propositions de solutions, on trouve la réforme des systèmes de rémunération, une participation plus forte des assurés aux coûts, et la limitation du catalogue des prestations, tout en tenant compte des conflits d'objectifs et des éventuels effets négatifs sur les assurés."
   ]
  },
  {
   "cell_type": "markdown",
   "metadata": {},
   "source": [
    "L'analisi delle politiche riguardanti la progettazione, la configurazione e l'organizzazione dell'assicurazione sanitaria obbligatoria (LAMal) in Svizzera mette in luce la complessa struttura e le principali sfide di questo sistema. Il sistema LAMal, basato su un obbligo di assicurazione con l'obbligo di accettare tutti gli assicurati, copre un ampio catalogo di prestazioni regolato da criteri definiti per legge. I premi non sono adattati in base al reddito, ma dipendono dal luogo di residenza e dal modello di assicurazione scelto, il che porta a una struttura di finanziamento regressiva, in cui le famiglie a basso reddito sono proporzionalmente più gravate. L'analisi mostra che il sistema è sotto pressione a causa di incentivi distorti, come l'aumento del volume delle prestazioni, in particolare nei settori ambulatoriale e ospedaliero. Inoltre, l'ampliamento del catalogo delle prestazioni è identificato come un ulteriore fattore di costo. Tra le proposte di soluzioni vi sono la riforma dei sistemi di remunerazione, una maggiore partecipazione dei cittadini ai costi e la limitazione del catalogo delle prestazioni, tenendo però conto dei conflitti di obiettivi e dei possibili effetti negativi sugli assicurati."
   ]
  },
  {
   "cell_type": "markdown",
   "metadata": {},
   "source": [
    "### Add to DF"
   ]
  },
  {
   "cell_type": "code",
   "execution_count": 18,
   "metadata": {},
   "outputs": [],
   "source": [
    "# Define the paragraphs\n",
    "paragraphs = [\n",
    "    \"\"\"Die Politikfeldanalyse zur Gestaltung, Konfiguration und Organisation der obligatorischen Krankenversicherung (OKP) in der Schweiz beleuchtet die komplexe Struktur und die wesentlichen Herausforderungen dieses Systems. Das OKP-System, das auf einem Versicherungsobligatorium mit Aufnahmepflicht basiert, deckt einen umfassenden Leistungskatalog ab, der durch gesetzlich definierte Kriterien geregelt ist. Die Prämien sind nicht einkommensabhängig, sondern richten sich nach dem Wohnort und dem gewählten Versicherungsmodell, was zu einer regressiven Finanzierungsstruktur führt, bei der einkommensschwächere Haushalte proportional stärker belastet werden. Die Analyse zeigt auf, dass das System durch Fehlanreize wie die Mengenausweitung, insbesondere im ambulanten und stationären Bereich, unter Druck steht. Zudem wird der zunehmende Leistungskatalog als ein weiterer Kostentreiber identifiziert. Lösungsvorschläge umfassen unter anderem die Reform der Vergütungssysteme, eine stärkere Eigenbeteiligung der Versicherten und die Beschränkung des Leistungskatalogs, wobei jedoch Zielkonflikte und potenzielle negative Auswirkungen auf die Versicherten berücksichtigt werden müssen.\"\"\",\n",
    "\n",
    "    \"L'analyse des politiques concernant la conception, la configuration et l'organisation de l'assurance maladie obligatoire (AMO) en Suisse met en lumière la structure complexe et les principaux défis de ce système. Le système AMO, basé sur une obligation d'assurance avec obligation d'accepter tout assuré, couvre un large catalogue de prestations réglementé par des critères définis par la loi. Les primes ne sont pas ajustées en fonction des revenus, mais dépendent du lieu de résidence et du modèle d'assurance choisi, ce qui conduit à une structure de financement régressive, où les ménages à faible revenu sont proportionnellement plus lourdement chargés. L'analyse montre que le système est sous pression en raison de mauvaises incitations telles que l'augmentation du volume des prestations, en particulier dans les secteurs ambulatoire et hospitalier. De plus, l'élargissement du catalogue des prestations est identifié comme un autre facteur de coût. Parmi les propositions de solutions, on trouve la réforme des systèmes de rémunération, une participation plus forte des assurés aux coûts, et la limitation du catalogue des prestations, tout en tenant compte des conflits d'objectifs et des éventuels effets négatifs sur les assurés.\",\n",
    "\n",
    "    \"L'analisi delle politiche riguardanti la progettazione, la configurazione e l'organizzazione dell'assicurazione sanitaria obbligatoria (LAMal) in Svizzera mette in luce la complessa struttura e le principali sfide di questo sistema. Il sistema LAMal, basato su un obbligo di assicurazione con l'obbligo di accettare tutti gli assicurati, copre un ampio catalogo di prestazioni regolato da criteri definiti per legge. I premi non sono adattati in base al reddito, ma dipendono dal luogo di residenza e dal modello di assicurazione scelto, il che porta a una struttura di finanziamento regressiva, in cui le famiglie a basso reddito sono proporzionalmente più gravate. L'analisi mostra che il sistema è sotto pressione a causa di incentivi distorti, come l'aumento del volume delle prestazioni, in particolare nei settori ambulatoriale e ospedaliero. Inoltre, l'ampliamento del catalogo delle prestazioni è identificato come un ulteriore fattore di costo. Tra le proposte di soluzioni vi sono la riforma dei sistemi di remunerazione, una maggiore partecipazione dei cittadini ai costi e la limitazione del catalogo delle prestazioni, tenendo però conto dei conflitti di obiettivi e dei possibili effetti negativi sugli assicurati.\"\n",
    "]\n",
    "\n",
    "# Add to DataFrame\n",
    "df['text_4'] = paragraphs"
   ]
  },
  {
   "cell_type": "markdown",
   "metadata": {},
   "source": [
    "## Lack of incentives for Health Prevention"
   ]
  },
  {
   "cell_type": "markdown",
   "metadata": {},
   "source": [
    "### Prompt"
   ]
  },
  {
   "cell_type": "markdown",
   "metadata": {},
   "source": [
    "du bist ein erfahrener journalist, schreibe einen zusammenfassenden absatz über \"Lack of incentives for Health Prevention\" auf Basis der Politikfeldanalyse\n",
    "\n",
    "(added: \"data/99_anchor_data/B_Politikfeldanalyse_Gesundheitskosten_2024_08_02_INTERFACE\")\n",
    "\n",
    "(+ übersetze auf französisch, übersetze auf italienisch)"
   ]
  },
  {
   "cell_type": "markdown",
   "metadata": {},
   "source": [
    "### Output"
   ]
  },
  {
   "cell_type": "markdown",
   "metadata": {},
   "source": [
    "Die fehlenden Anreize zur Gesundheitsprävention in der Schweiz resultieren aus einer komplexen Mischung aus strukturellen und politischen Faktoren. Obwohl Prävention langfristig die Gesundheitskosten senken könnte, gibt es auf individueller und institutioneller Ebene wenig Motivation, präventive Maßnahmen zu fördern. Die derzeitigen Anreizstrukturen im Gesundheitssystem begünstigen eher kurative Behandlungen als präventive Maßnahmen, da kurzfristige Einsparungen oft über langfristige Kostensenkungen gestellt werden. Zudem sind Präventionsprogramme häufig mit Zielkonflikten behaftet, beispielsweise zwischen der individuellen Freiheit und dem kollektiven Gesundheitsnutzen. Diese Zielkonflikte erschweren die politische Umsetzung von Präventionsmaßnahmen weiter und führen dazu, dass die Schweiz im europäischen Vergleich bei der Prävention zurückfällt ."
   ]
  },
  {
   "cell_type": "markdown",
   "metadata": {},
   "source": [
    "Le manque d'incitations à la prévention en matière de santé en Suisse résulte d'un mélange complexe de facteurs structurels et politiques. Bien que la prévention puisse réduire les coûts de santé à long terme, il existe peu de motivation, tant au niveau individuel qu'institutionnel, pour promouvoir des mesures préventives. Les structures d'incitation actuelles du système de santé favorisent davantage les traitements curatifs que les mesures préventives, car les économies à court terme sont souvent privilégiées par rapport à la réduction des coûts à long terme. De plus, les programmes de prévention sont souvent confrontés à des conflits d'objectifs, par exemple entre la liberté individuelle et le bénéfice collectif pour la santé. Ces conflits rendent la mise en œuvre politique des mesures de prévention plus difficile, ce qui fait que la Suisse est à la traîne par rapport à d'autres pays européens en matière de prévention."
   ]
  },
  {
   "cell_type": "markdown",
   "metadata": {},
   "source": [
    "La mancanza di incentivi per la prevenzione sanitaria in Svizzera è il risultato di una combinazione complessa di fattori strutturali e politici. Sebbene la prevenzione possa ridurre i costi sanitari a lungo termine, esiste poca motivazione, sia a livello individuale che istituzionale, per promuovere misure preventive. Le attuali strutture di incentivo nel sistema sanitario favoriscono maggiormente i trattamenti curativi rispetto alle misure preventive, poiché i risparmi a breve termine sono spesso preferiti alla riduzione dei costi a lungo termine. Inoltre, i programmi di prevenzione sono spesso caratterizzati da conflitti di obiettivi, ad esempio tra la libertà individuale e il beneficio collettivo per la salute. Questi conflitti rendono più difficile l'attuazione politica delle misure di prevenzione, facendo sì che la Svizzera resti indietro rispetto ad altri paesi europei in materia di prevenzione."
   ]
  },
  {
   "cell_type": "markdown",
   "metadata": {},
   "source": [
    "### Add to DF"
   ]
  },
  {
   "cell_type": "code",
   "execution_count": 19,
   "metadata": {},
   "outputs": [],
   "source": [
    "# Define the paragraphs\n",
    "paragraphs = [\n",
    "    \"\"\"Die fehlenden Anreize zur Gesundheitsprävention in der Schweiz resultieren aus einer komplexen Mischung aus strukturellen und politischen Faktoren. Obwohl Prävention langfristig die Gesundheitskosten senken könnte, gibt es auf individueller und institutioneller Ebene wenig Motivation, präventive Maßnahmen zu fördern. Die derzeitigen Anreizstrukturen im Gesundheitssystem begünstigen eher kurative Behandlungen als präventive Maßnahmen, da kurzfristige Einsparungen oft über langfristige Kostensenkungen gestellt werden. Zudem sind Präventionsprogramme häufig mit Zielkonflikten behaftet, beispielsweise zwischen der individuellen Freiheit und dem kollektiven Gesundheitsnutzen. Diese Zielkonflikte erschweren die politische Umsetzung von Präventionsmaßnahmen weiter und führen dazu, dass die Schweiz im europäischen Vergleich bei der Prävention zurückfällt .\"\"\",\n",
    "\n",
    "    \"Le manque d'incitations à la prévention en matière de santé en Suisse résulte d'un mélange complexe de facteurs structurels et politiques. Bien que la prévention puisse réduire les coûts de santé à long terme, il existe peu de motivation, tant au niveau individuel qu'institutionnel, pour promouvoir des mesures préventives. Les structures d'incitation actuelles du système de santé favorisent davantage les traitements curatifs que les mesures préventives, car les économies à court terme sont souvent privilégiées par rapport à la réduction des coûts à long terme. De plus, les programmes de prévention sont souvent confrontés à des conflits d'objectifs, par exemple entre la liberté individuelle et le bénéfice collectif pour la santé. Ces conflits rendent la mise en œuvre politique des mesures de prévention plus difficile, ce qui fait que la Suisse est à la traîne par rapport à d'autres pays européens en matière de prévention.\",\n",
    "\n",
    "    \"La mancanza di incentivi per la prevenzione sanitaria in Svizzera è il risultato di una combinazione complessa di fattori strutturali e politici. Sebbene la prevenzione possa ridurre i costi sanitari a lungo termine, esiste poca motivazione, sia a livello individuale che istituzionale, per promuovere misure preventive. Le attuali strutture di incentivo nel sistema sanitario favoriscono maggiormente i trattamenti curativi rispetto alle misure preventive, poiché i risparmi a breve termine sono spesso preferiti alla riduzione dei costi a lungo termine. Inoltre, i programmi di prevenzione sono spesso caratterizzati da conflitti di obiettivi, ad esempio tra la libertà individuale e il beneficio collettivo per la salute. Questi conflitti rendono più difficile l'attuazione politica delle misure di prevenzione, facendo sì che la Svizzera resti indietro rispetto ad altri paesi europei in materia di prevenzione.\"\n",
    "]\n",
    "\n",
    "# Add to DataFrame\n",
    "df['text_5'] = paragraphs"
   ]
  },
  {
   "cell_type": "markdown",
   "metadata": {},
   "source": [
    "## Coordination of health services"
   ]
  },
  {
   "cell_type": "markdown",
   "metadata": {},
   "source": [
    "### Prompt"
   ]
  },
  {
   "cell_type": "markdown",
   "metadata": {},
   "source": [
    "du bist ein erfahrener journalist, schreibe einen zusammenfassenden absatz über \"Coordination of health services\" auf Basis der Politikfeldanalyse\n",
    "\n",
    "(added: \"data/99_anchor_data/B_Politikfeldanalyse_Gesundheitskosten_2024_08_02_INTERFACE\")\n",
    "\n",
    "(+ übersetze auf französisch, übersetze auf italienisch)"
   ]
  },
  {
   "cell_type": "markdown",
   "metadata": {},
   "source": [
    "### Output"
   ]
  },
  {
   "cell_type": "markdown",
   "metadata": {},
   "source": [
    "Die mangelnde Koordination der Gesundheitsversorgung in der Schweiz stellt ein erhebliches Problem dar, insbesondere angesichts der steigenden Gesundheitskosten. Laut einer Politikfeldanalyse wird die koordinierte Versorgung als wesentliche Methode zur Verbesserung der Behandlungsqualität betrachtet, insbesondere für ältere Patienten mit chronischen Krankheiten, die von mehreren Fachpersonen betreut werden. Die Hausärzte spielen dabei eine zentrale Rolle als Gatekeeper, doch der zunehmende Mangel an Hausärzten verschärft die Problematik. Lösungsvorschläge umfassen unter anderem die Einführung von obligatorischen Gatekeeping-Modellen in der Grundversicherung sowie die Förderung der interprofessionellen Zusammenarbeit durch gezielte finanzielle Anreize. Ein Zielkonflikt besteht jedoch in der Einschränkung der Wahlfreiheit der Versicherten, was auf Widerstand stoßen könnte."
   ]
  },
  {
   "cell_type": "markdown",
   "metadata": {},
   "source": [
    "Le manque de coordination dans les services de santé en Suisse constitue un problème important, notamment en raison de l'augmentation des coûts de la santé. Selon une analyse des politiques, la coordination des soins est considérée comme une méthode essentielle pour améliorer la qualité des traitements, en particulier pour les patients âgés souffrant de maladies chroniques, qui sont suivis par plusieurs professionnels de santé. Les médecins généralistes jouent un rôle central en tant que gardiens du système, mais la pénurie croissante de généralistes aggrave le problème. Parmi les solutions proposées figurent l'introduction de modèles de garde obligatoires dans l'assurance de base et la promotion de la collaboration interprofessionnelle grâce à des incitations financières ciblées. Un conflit d'objectifs existe toutefois dans la limitation de la liberté de choix des assurés, ce qui pourrait rencontrer de la résistance"
   ]
  },
  {
   "cell_type": "markdown",
   "metadata": {},
   "source": [
    "La mancanza di coordinamento nei servizi sanitari in Svizzera rappresenta un problema significativo, soprattutto a causa dell'aumento dei costi sanitari. Secondo un'analisi delle politiche, il coordinamento dell'assistenza è considerato un metodo essenziale per migliorare la qualità delle cure, in particolare per i pazienti anziani con malattie croniche, che sono seguiti da diversi professionisti della salute. I medici di base svolgono un ruolo centrale come \"gatekeeper\" del sistema, ma la crescente carenza di medici di base aggrava il problema. Tra le soluzioni proposte figurano l'introduzione di modelli obbligatori di \"gatekeeping\" nell'assicurazione di base e la promozione della collaborazione interprofessionale attraverso incentivi finanziari mirati. Tuttavia, esiste un conflitto di obiettivi nella limitazione della libertà di scelta degli assicurati, che potrebbe incontrare resistenza"
   ]
  },
  {
   "cell_type": "markdown",
   "metadata": {},
   "source": [
    "### Add to DF"
   ]
  },
  {
   "cell_type": "code",
   "execution_count": 20,
   "metadata": {},
   "outputs": [],
   "source": [
    "# Define the paragraphs\n",
    "paragraphs = [\n",
    "    \"\"\"Die mangelnde Koordination der Gesundheitsversorgung in der Schweiz stellt ein erhebliches Problem dar, insbesondere angesichts der steigenden Gesundheitskosten. Laut einer Politikfeldanalyse wird die koordinierte Versorgung als wesentliche Methode zur Verbesserung der Behandlungsqualität betrachtet, insbesondere für ältere Patienten mit chronischen Krankheiten, die von mehreren Fachpersonen betreut werden. Die Hausärzte spielen dabei eine zentrale Rolle als Gatekeeper, doch der zunehmende Mangel an Hausärzten verschärft die Problematik. Lösungsvorschläge umfassen unter anderem die Einführung von obligatorischen Gatekeeping-Modellen in der Grundversicherung sowie die Förderung der interprofessionellen Zusammenarbeit durch gezielte finanzielle Anreize. Ein Zielkonflikt besteht jedoch in der Einschränkung der Wahlfreiheit der Versicherten, was auf Widerstand stoßen könnte.\"\"\",\n",
    "\n",
    "    \"Le manque de coordination dans les services de santé en Suisse constitue un problème important, notamment en raison de l'augmentation des coûts de la santé. Selon une analyse des politiques, la coordination des soins est considérée comme une méthode essentielle pour améliorer la qualité des traitements, en particulier pour les patients âgés souffrant de maladies chroniques, qui sont suivis par plusieurs professionnels de santé. Les médecins généralistes jouent un rôle central en tant que gardiens du système, mais la pénurie croissante de généralistes aggrave le problème. Parmi les solutions proposées figurent l'introduction de modèles de garde obligatoires dans l'assurance de base et la promotion de la collaboration interprofessionnelle grâce à des incitations financières ciblées. Un conflit d'objectifs existe toutefois dans la limitation de la liberté de choix des assurés, ce qui pourrait rencontrer de la résistance\",\n",
    "\n",
    "    \"\"\"La mancanza di coordinamento nei servizi sanitari in Svizzera rappresenta un problema significativo, soprattutto a causa dell'aumento dei costi sanitari. Secondo un'analisi delle politiche, il coordinamento dell'assistenza è considerato un metodo essenziale per migliorare la qualità delle cure, in particolare per i pazienti anziani con malattie croniche, che sono seguiti da diversi professionisti della salute. I medici di base svolgono un ruolo centrale come \"gatekeeper\" del sistema, ma la crescente carenza di medici di base aggrava il problema. Tra le soluzioni proposte figurano l'introduzione di modelli obbligatori di \"gatekeeping\" nell'assicurazione di base e la promozione della collaborazione interprofessionale attraverso incentivi finanziari mirati. Tuttavia, esiste un conflitto di obiettivi nella limitazione della libertà di scelta degli assicurati, che potrebbe incontrare resistenza\"\"\"\n",
    "]\n",
    "\n",
    "# Add to DataFrame\n",
    "df['text_6'] = paragraphs"
   ]
  },
  {
   "cell_type": "markdown",
   "metadata": {},
   "source": [
    "## Financial burden of health costs and household (costs distribution)\n"
   ]
  },
  {
   "cell_type": "markdown",
   "metadata": {},
   "source": [
    "### Prompt"
   ]
  },
  {
   "cell_type": "markdown",
   "metadata": {},
   "source": [
    "du bist ein erfahrener journalist, schreibe einen zusammenfassenden absatz über \"Financial burden of health costs and household (costs distribution)\" auf Basis der Politikfeldanalyse\n",
    "\n",
    "(added: \"data/99_anchor_data/B_Politikfeldanalyse_Gesundheitskosten_2024_08_02_INTERFACE\")\n",
    "\n",
    "(+ übersetze auf französisch, übersetze auf italienisch)"
   ]
  },
  {
   "cell_type": "markdown",
   "metadata": {},
   "source": [
    "### Output"
   ]
  },
  {
   "cell_type": "markdown",
   "metadata": {},
   "source": [
    "Die Politikfeldanalyse zu den steigenden Gesundheitskosten beleuchtet die finanzielle Belastung, die durch Gesundheitskosten auf die Haushalte zukommt, und wie diese Kosten verteilt werden. In der Schweiz werden die Gesundheitskosten größtenteils durch die obligatorische Krankenpflegeversicherung (OKP), den Staat und die Haushalte selbst getragen. Haushalte sind sowohl über Prämien für die OKP und Zusatzversicherungen als auch durch Selbstzahlungen direkt an den Kosten beteiligt. Seit 2012 haben die Gesundheitskosten stark zugenommen, was zu einer höheren finanziellen Belastung der Haushalte führte, insbesondere für einkommensschwächere Familien. Der Anteil der Gesundheitsausgaben am Bruttohaushaltseinkommen ist regressiv, was bedeutet, dass einkommensschwächere Haushalte einen größeren Teil ihres Einkommens für Gesundheitsausgaben aufwenden müssen als einkommensstärkere. Diese Belastung wird nur teilweise durch staatliche Maßnahmen wie Prämienverbilligungen gemildert. Die steigenden Prämien und die zunehmende Notwendigkeit von Selbstzahlungen verschärfen die finanzielle Last der Haushalte und führen zu einer ungleichen Verteilung der Kosten im Gesundheitssystem."
   ]
  },
  {
   "cell_type": "markdown",
   "metadata": {},
   "source": [
    "L'analyse des politiques sur l'augmentation des coûts de la santé examine le fardeau financier que ces coûts imposent aux ménages et la manière dont ces dépenses sont réparties. En Suisse, les coûts de la santé sont principalement couverts par l'assurance-maladie obligatoire (LAMal), l'État et les ménages eux-mêmes. Les ménages contribuent directement aux dépenses de santé à travers les primes de la LAMal et des assurances complémentaires, ainsi que par les paiements directs. Depuis 2012, les coûts de la santé ont considérablement augmenté, ce qui a conduit à un fardeau financier plus important pour les ménages, en particulier pour les familles à faible revenu. La part des dépenses de santé dans le revenu brut des ménages est régressive, ce qui signifie que les ménages à faible revenu consacrent une plus grande part de leur revenu aux dépenses de santé que les ménages à revenu plus élevé. Ce fardeau n'est que partiellement atténué par des mesures étatiques telles que les réductions de primes. L'augmentation des primes et la nécessité croissante de paiements directs aggravent la charge financière des ménages et entraînent une répartition inégale des coûts dans le système de santé."
   ]
  },
  {
   "cell_type": "markdown",
   "metadata": {},
   "source": [
    "L'analisi delle politiche sui crescenti costi sanitari esamina il peso finanziario che questi costi impongono alle famiglie e come tali spese vengono distribuite. In Svizzera, i costi sanitari sono principalmente coperti dall'assicurazione sanitaria obbligatoria (LAMal), dallo Stato e dalle famiglie stesse. Le famiglie contribuiscono direttamente alle spese sanitarie attraverso i premi della LAMal e delle assicurazioni complementari, nonché tramite pagamenti diretti. Dal 2012, i costi sanitari sono aumentati considerevolmente, portando a un maggiore onere finanziario per le famiglie, in particolare per quelle a basso reddito. La quota delle spese sanitarie rispetto al reddito lordo delle famiglie è regressiva, il che significa che le famiglie a basso reddito dedicano una parte maggiore del loro reddito alle spese sanitarie rispetto alle famiglie con redditi più alti. Questo onere è solo parzialmente attenuato da misure statali come le riduzioni dei premi. L'aumento dei premi e la crescente necessità di pagamenti diretti aggravano il carico finanziario delle famiglie e portano a una distribuzione diseguale dei costi nel sistema sanitario."
   ]
  },
  {
   "cell_type": "markdown",
   "metadata": {},
   "source": [
    "### Add to DF"
   ]
  },
  {
   "cell_type": "code",
   "execution_count": 21,
   "metadata": {},
   "outputs": [],
   "source": [
    "# Define the paragraphs\n",
    "paragraphs = [\n",
    "    \"\"\"Die Politikfeldanalyse zu den steigenden Gesundheitskosten beleuchtet die finanzielle Belastung, die durch Gesundheitskosten auf die Haushalte zukommt, und wie diese Kosten verteilt werden. In der Schweiz werden die Gesundheitskosten größtenteils durch die obligatorische Krankenpflegeversicherung (OKP), den Staat und die Haushalte selbst getragen. Haushalte sind sowohl über Prämien für die OKP und Zusatzversicherungen als auch durch Selbstzahlungen direkt an den Kosten beteiligt. Seit 2012 haben die Gesundheitskosten stark zugenommen, was zu einer höheren finanziellen Belastung der Haushalte führte, insbesondere für einkommensschwächere Familien. Der Anteil der Gesundheitsausgaben am Bruttohaushaltseinkommen ist regressiv, was bedeutet, dass einkommensschwächere Haushalte einen größeren Teil ihres Einkommens für Gesundheitsausgaben aufwenden müssen als einkommensstärkere. Diese Belastung wird nur teilweise durch staatliche Maßnahmen wie Prämienverbilligungen gemildert. Die steigenden Prämien und die zunehmende Notwendigkeit von Selbstzahlungen verschärfen die finanzielle Last der Haushalte und führen zu einer ungleichen Verteilung der Kosten im Gesundheitssystem.\"\"\",\n",
    "\n",
    "    \"L'analyse des politiques sur l'augmentation des coûts de la santé examine le fardeau financier que ces coûts imposent aux ménages et la manière dont ces dépenses sont réparties. En Suisse, les coûts de la santé sont principalement couverts par l'assurance-maladie obligatoire (LAMal), l'État et les ménages eux-mêmes. Les ménages contribuent directement aux dépenses de santé à travers les primes de la LAMal et des assurances complémentaires, ainsi que par les paiements directs. Depuis 2012, les coûts de la santé ont considérablement augmenté, ce qui a conduit à un fardeau financier plus important pour les ménages, en particulier pour les familles à faible revenu. La part des dépenses de santé dans le revenu brut des ménages est régressive, ce qui signifie que les ménages à faible revenu consacrent une plus grande part de leur revenu aux dépenses de santé que les ménages à revenu plus élevé. Ce fardeau n'est que partiellement atténué par des mesures étatiques telles que les réductions de primes. L'augmentation des primes et la nécessité croissante de paiements directs aggravent la charge financière des ménages et entraînent une répartition inégale des coûts dans le système de santé.\",\n",
    "\n",
    "    \"\"\"L'analisi delle politiche sui crescenti costi sanitari esamina il peso finanziario che questi costi impongono alle famiglie e come tali spese vengono distribuite. In Svizzera, i costi sanitari sono principalmente coperti dall'assicurazione sanitaria obbligatoria (LAMal), dallo Stato e dalle famiglie stesse. Le famiglie contribuiscono direttamente alle spese sanitarie attraverso i premi della LAMal e delle assicurazioni complementari, nonché tramite pagamenti diretti. Dal 2012, i costi sanitari sono aumentati considerevolmente, portando a un maggiore onere finanziario per le famiglie, in particolare per quelle a basso reddito. La quota delle spese sanitarie rispetto al reddito lordo delle famiglie è regressiva, il che significa che le famiglie a basso reddito dedicano una parte maggiore del loro reddito alle spese sanitarie rispetto alle famiglie con redditi più alti. Questo onere è solo parzialmente attenuato da misure statali come le riduzioni dei premi. L'aumento dei premi e la crescente necessità di pagamenti diretti aggravano il carico finanziario delle famiglie e portano a una distribuzione diseguale dei costi nel sistema sanitario.\"\"\"\n",
    "]\n",
    "\n",
    "# Add to DataFrame\n",
    "df['text_7'] = paragraphs"
   ]
  },
  {
   "cell_type": "markdown",
   "metadata": {},
   "source": [
    "## Safe DF"
   ]
  },
  {
   "cell_type": "code",
   "execution_count": 24,
   "metadata": {},
   "outputs": [],
   "source": [
    "# Function to reshape the DataFrame into the desired format\n",
    "def reshape_dataframe(df):\n",
    "    reshaped_data = []\n",
    "\n",
    "    # Iterate through each row in the DataFrame\n",
    "    for index, row in df.iterrows():\n",
    "        for col in df.columns:\n",
    "            # Extract only the number from the column name (e.g., \"text_0\" -> \"0\")\n",
    "            category_number = ''.join(filter(str.isdigit, col))\n",
    "            reshaped_data.append({'category': int(category_number), 'text': row[col]})\n",
    "\n",
    "    # Create the reshaped DataFrame\n",
    "    reshaped_df = pd.DataFrame(reshaped_data, columns=['category', 'text'])\n",
    "    reshaped_df = reshaped_df.sort_values(by='category').reset_index(drop=True)\n",
    "    return reshaped_df\n",
    "\n",
    "# Reshape the DataFrame\n",
    "reshaped_df = reshape_dataframe(df)\n",
    "\n",
    "# Save the DataFrame\n",
    "reshaped_df.to_csv(\"data/01_text_data/anchors.csv\", index=True)"
   ]
  }
 ],
 "metadata": {
  "kernelspec": {
   "display_name": "dri_env",
   "language": "python",
   "name": "python3"
  },
  "language_info": {
   "codemirror_mode": {
    "name": "ipython",
    "version": 3
   },
   "file_extension": ".py",
   "mimetype": "text/x-python",
   "name": "python",
   "nbconvert_exporter": "python",
   "pygments_lexer": "ipython3",
   "version": "3.12.4"
  }
 },
 "nbformat": 4,
 "nbformat_minor": 2
}
