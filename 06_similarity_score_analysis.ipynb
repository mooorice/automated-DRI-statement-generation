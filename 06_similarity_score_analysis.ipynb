{
 "cells": [
  {
   "cell_type": "markdown",
   "metadata": {},
   "source": [
    "# Imports"
   ]
  },
  {
   "cell_type": "code",
   "execution_count": 1,
   "metadata": {},
   "outputs": [],
   "source": [
    "import pandas as pd\n",
    "import matplotlib.pyplot as plt\n",
    "import seaborn as sns\n"
   ]
  },
  {
   "cell_type": "markdown",
   "metadata": {},
   "source": [
    "# Load Data"
   ]
  },
  {
   "cell_type": "code",
   "execution_count": 9,
   "metadata": {},
   "outputs": [],
   "source": [
    "df = pd.read_csv('data/04_categorized_data/similarity_scored_paragraphs.csv')\n",
    "df['similarity_score_0'] = df['similarity_score']\n",
    "df.drop(columns=['similarity_score'], inplace=True)"
   ]
  },
  {
   "cell_type": "markdown",
   "metadata": {},
   "source": [
    "# Basic Analysis"
   ]
  },
  {
   "cell_type": "code",
   "execution_count": null,
   "metadata": {},
   "outputs": [],
   "source": [
    "# Count occurrences of each 'id'\n",
    "df['id_count'] = df['id'].map(df['id'].value_counts())\n",
    "\n",
    "# Aggregate the DataFrame by 'id', keeping the first occurrence of each column\n",
    "aggregated_df = df.groupby('id', as_index=False).first()\n",
    "\n",
    "# Sort by highest id count\n",
    "sorted_df = aggregated_df.sort_values(by='id_count', ascending=False)\n",
    "sorted_df.head(10)"
   ]
  },
  {
   "cell_type": "code",
   "execution_count": null,
   "metadata": {},
   "outputs": [],
   "source": [
    "# Calculate median and average\n",
    "median_id_count = aggregated_df['id_count'].median()\n",
    "average_id_count = aggregated_df['id_count'].mean()\n",
    "\n",
    "# Display results\n",
    "median_id_count, average_id_count"
   ]
  },
  {
   "cell_type": "markdown",
   "metadata": {},
   "source": [
    "# Visualize Distributions of Similarity Scores"
   ]
  },
  {
   "cell_type": "code",
   "execution_count": null,
   "metadata": {},
   "outputs": [],
   "source": [
    "# Identify the similarity score columns\n",
    "similarity_cols = [ 'similarity_score_0',\n",
    "    \"similarity_score_1\", \"similarity_score_2\", \"similarity_score_3\",\n",
    "    \"similarity_score_4\", \"similarity_score_5\", \"similarity_score_6\",\n",
    "    \"similarity_score_7\"\n",
    "]\n",
    "\n",
    "# Option 1: Single figure with 8 subplots (2x4 grid)\n",
    "plt.figure(figsize=(20, 10))\n",
    "for i, col in enumerate(similarity_cols):\n",
    "    plt.subplot(2, 4, i+1)\n",
    "    sns.histplot(df[col], bins=30, kde=True, color=sns.color_palette(\"viridis\", 8)[i])\n",
    "    plt.title(f\"{col}\")\n",
    "    plt.xlabel(\"Score\")\n",
    "    plt.ylabel(\"Frequency\")\n",
    "plt.tight_layout()\n",
    "plt.show()\n",
    "\n",
    "# Option 2: Combined KDE plot with all distributions\n",
    "plt.figure(figsize=(14, 8))\n",
    "for i, col in enumerate(similarity_cols):\n",
    "    sns.kdeplot(df[col], label=col, fill=True, alpha=0.3, linewidth=2,\n",
    "                color=sns.color_palette(\"viridis\", 8)[i])\n",
    "plt.title(\"Distribution of All Similarity Scores\")\n",
    "plt.xlabel(\"Score Value\")\n",
    "plt.ylabel(\"Density\")\n",
    "plt.legend(bbox_to_anchor=(1.05, 1), loc='upper left')\n",
    "plt.tight_layout()\n",
    "plt.show()\n",
    "\n",
    "# Option 3: Facet grid for more structured comparison\n",
    "# Reshape data from wide to long format\n",
    "similarity_data = df[similarity_cols].copy()\n",
    "similarity_long = pd.melt(similarity_data,\n",
    "                         value_vars=similarity_cols,\n",
    "                         var_name='Similarity_Type',\n",
    "                         value_name='Score')\n",
    "\n",
    "# Option 4: Violin plot for more detailed distribution comparison\n",
    "plt.figure(figsize=(14, 8))\n",
    "sns.violinplot(data=similarity_long, x=\"Similarity_Type\", y=\"Score\", palette=\"viridis\", inner=\"quartile\")\n",
    "plt.title(\"Detailed Comparison of Similarity Score Distributions\")\n",
    "plt.xticks(rotation=45)\n",
    "plt.tight_layout()\n",
    "plt.show()"
   ]
  }
 ],
 "metadata": {
  "kernelspec": {
   "display_name": "dri_env",
   "language": "python",
   "name": "python3"
  },
  "language_info": {
   "codemirror_mode": {
    "name": "ipython",
    "version": 3
   },
   "file_extension": ".py",
   "mimetype": "text/x-python",
   "name": "python",
   "nbconvert_exporter": "python",
   "pygments_lexer": "ipython3",
   "version": "3.12.4"
  }
 },
 "nbformat": 4,
 "nbformat_minor": 2
}
