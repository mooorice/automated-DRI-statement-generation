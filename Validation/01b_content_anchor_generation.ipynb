{
 "cells": [
  {
   "cell_type": "code",
   "execution_count": 1,
   "metadata": {},
   "outputs": [],
   "source": [
    "import pandas as pd"
   ]
  },
  {
   "cell_type": "markdown",
   "metadata": {},
   "source": [
    "# Call GPT4o with prompts for:"
   ]
  },
  {
   "cell_type": "markdown",
   "metadata": {},
   "source": [
    "## General Similarity Scoring"
   ]
  },
  {
   "cell_type": "markdown",
   "metadata": {},
   "source": [
    "### Prompt"
   ]
  },
  {
   "cell_type": "markdown",
   "metadata": {},
   "source": [
    "You are an experienced journalist. Write a paragraph about the future of Switzerland's food system and all aspects that need to be considered. Use the attached document as a foundation and include the following topics: Reality of change, Responsibility of action, economy and markets, pollution and biodiversity, sustainable agriculture, global perspective, action and responses\n",
    "\n",
    "(added: \"data/99_anchor_data/Merged_Full_Validation_Anchor_Background.pdf\")\n",
    "\n",
    "(+ translate to german, french, italian)"
   ]
  },
  {
   "cell_type": "markdown",
   "metadata": {},
   "source": [
    "### Output"
   ]
  },
  {
   "cell_type": "markdown",
   "metadata": {},
   "source": [
    "Switzerland’s food system stands at a crossroads, requiring a thoughtful transformation to address ecological, economic, and social challenges. The reality of change is undeniable as current systems struggle with pollution, biodiversity loss, and inefficiencies that fail to meet sustainability goals. Responsibility for action lies with multiple stakeholders: governments must provide strategic interventions, such as integrating environmental criteria into agricultural subsidies, while businesses and consumers share the onus of reducing waste and shifting to sustainable practices. Economically, Switzerland's agriculture is both globally competitive and heavily protected, necessitating balanced policies that support innovation without fostering isolationism. Moreover, pollution and biodiversity concerns demand urgent responses, as intensive agricultural practices have significantly degraded natural habitats. Sustainable agriculture, which emphasizes low-input, eco-friendly methods, offers a viable path forward but requires systemic support and market incentives. From a global perspective, Switzerland must also align with international standards, championing sustainability in trade agreements and leveraging its influence to promote eco-conscious practices worldwide. This transformation will only succeed through coordinated action and robust responses from policymakers, markets, and society, ensuring that food systems can sustain both people and the planet."
   ]
  },
  {
   "cell_type": "markdown",
   "metadata": {},
   "source": [
    "Das Schweizer Ernährungssystem steht an einem Wendepunkt und benötigt eine durchdachte Transformation, um ökologischen, wirtschaftlichen und sozialen Herausforderungen zu begegnen. Der Wandel ist unausweichlich, da die aktuellen Systeme mit Problemen wie Umweltverschmutzung, Biodiversitätsverlust und Ineffizienzen kämpfen, die den Nachhaltigkeitszielen entgegenstehen. Die Verantwortung für Maßnahmen liegt bei verschiedenen Akteuren: Regierungen müssen strategische Eingriffe vornehmen, etwa durch die Integration von Umweltkriterien in landwirtschaftliche Subventionen, während Unternehmen und Verbraucher gemeinsam die Pflicht tragen, Abfall zu reduzieren und auf nachhaltige Praktiken umzustellen. Wirtschaftlich gesehen ist die Schweizer Landwirtschaft sowohl global wettbewerbsfähig als auch stark geschützt, was ausgewogene Politiken erfordert, die Innovationen fördern, ohne Isolationismus zu begünstigen. Darüber hinaus erfordern Umweltverschmutzung und der Verlust der Biodiversität dringend Maßnahmen, da intensive landwirtschaftliche Praktiken die natürlichen Lebensräume erheblich geschädigt haben. Eine nachhaltige Landwirtschaft, die auf ressourcenschonende und umweltfreundliche Methoden setzt, bietet einen gangbaren Weg, benötigt jedoch systematische Unterstützung und marktbasierte Anreize. Aus globaler Perspektive muss die Schweiz sich internationalen Standards anpassen, Nachhaltigkeit in Handelsabkommen fördern und ihren Einfluss nutzen, um weltweit umweltbewusste Praktiken voranzutreiben. Dieser Wandel kann nur durch koordinierte Maßnahmen und entschlossene Antworten von Politik, Märkten und Gesellschaft gelingen, damit Ernährungssysteme sowohl die Menschen als auch den Planeten nachhaltig versorgen können."
   ]
  },
  {
   "cell_type": "markdown",
   "metadata": {},
   "source": [
    "Le système alimentaire suisse se trouve à un tournant et nécessite une transformation réfléchie pour relever les défis écologiques, économiques et sociaux. Le changement est inévitable, car les systèmes actuels peinent à résoudre des problèmes tels que la pollution, la perte de biodiversité et les inefficacités qui vont à l’encontre des objectifs de durabilité. La responsabilité de l’action incombe à de multiples acteurs : les gouvernements doivent intervenir de manière stratégique, par exemple en intégrant des critères environnementaux dans les subventions agricoles, tandis que les entreprises et les consommateurs partagent le devoir de réduire les déchets et d’adopter des pratiques durables. Économiquement, l’agriculture suisse est à la fois compétitive à l’échelle mondiale et fortement protégée, ce qui nécessite des politiques équilibrées qui soutiennent l’innovation sans encourager l’isolationnisme. Par ailleurs, la pollution et la perte de biodiversité exigent des réponses urgentes, car les pratiques agricoles intensives ont considérablement dégradé les habitats naturels. Une agriculture durable, qui privilégie des méthodes éco-responsables et à faible impact, offre une voie viable, mais nécessite un soutien systématique et des incitations basées sur le marché. D’un point de vue global, la Suisse doit également s’aligner sur les normes internationales, promouvoir la durabilité dans les accords commerciaux et utiliser son influence pour encourager des pratiques écologiques à travers le monde. Cette transformation ne pourra réussir que grâce à une action coordonnée et des réponses déterminées des décideurs politiques, des marchés et de la société, garantissant ainsi que les systèmes alimentaires puissent soutenir à la fois les populations et la planète de manière durable."
   ]
  },
  {
   "cell_type": "markdown",
   "metadata": {},
   "source": [
    "Il sistema alimentare svizzero si trova a un punto di svolta e necessita di una trasformazione ponderata per affrontare le sfide ecologiche, economiche e sociali. Il cambiamento è inevitabile, poiché i sistemi attuali faticano a risolvere problemi come l’inquinamento, la perdita di biodiversità e le inefficienze che ostacolano gli obiettivi di sostenibilità. La responsabilità dell’azione ricade su molteplici attori: i governi devono intervenire strategicamente, ad esempio integrando criteri ambientali nei sussidi agricoli, mentre imprese e consumatori condividono il dovere di ridurre gli sprechi e adottare pratiche sostenibili. Dal punto di vista economico, l’agricoltura svizzera è sia competitiva a livello globale che fortemente protetta, richiedendo politiche equilibrate che promuovano l’innovazione senza favorire l’isolazionismo. Inoltre, l’inquinamento e la perdita di biodiversità richiedono risposte urgenti, poiché le pratiche agricole intensive hanno gravemente degradato gli habitat naturali. L’agricoltura sostenibile, che privilegia metodi ecologici e a basso impatto, rappresenta una strada percorribile, ma necessita di un supporto sistematico e di incentivi di mercato. Da una prospettiva globale, la Svizzera deve anche allinearsi agli standard internazionali, promuovere la sostenibilità negli accordi commerciali e utilizzare la sua influenza per incoraggiare pratiche ecologiche in tutto il mondo. Questa trasformazione potrà avere successo solo attraverso un’azione coordinata e risposte decise da parte dei decisori politici, dei mercati e della società, garantendo che i sistemi alimentari possano sostenere in modo duraturo sia le persone che il pianeta."
   ]
  },
  {
   "cell_type": "markdown",
   "metadata": {},
   "source": [
    "### Create DF"
   ]
  },
  {
   "cell_type": "code",
   "execution_count": null,
   "metadata": {},
   "outputs": [],
   "source": [
    "# Define the paragraphs\n",
    "paragraphs = [\n",
    "    \"Das Schweizer Ernährungssystem steht an einem Wendepunkt und benötigt eine durchdachte Transformation, um ökologischen, wirtschaftlichen und sozialen Herausforderungen zu begegnen. Der Wandel ist unausweichlich, da die aktuellen Systeme mit Problemen wie Umweltverschmutzung, Biodiversitätsverlust und Ineffizienzen kämpfen, die den Nachhaltigkeitszielen entgegenstehen. Die Verantwortung für Maßnahmen liegt bei verschiedenen Akteuren: Regierungen müssen strategische Eingriffe vornehmen, etwa durch die Integration von Umweltkriterien in landwirtschaftliche Subventionen, während Unternehmen und Verbraucher gemeinsam die Pflicht tragen, Abfall zu reduzieren und auf nachhaltige Praktiken umzustellen. Wirtschaftlich gesehen ist die Schweizer Landwirtschaft sowohl global wettbewerbsfähig als auch stark geschützt, was ausgewogene Politiken erfordert, die Innovationen fördern, ohne Isolationismus zu begünstigen. Darüber hinaus erfordern Umweltverschmutzung und der Verlust der Biodiversität dringend Maßnahmen, da intensive landwirtschaftliche Praktiken die natürlichen Lebensräume erheblich geschädigt haben. Eine nachhaltige Landwirtschaft, die auf ressourcenschonende und umweltfreundliche Methoden setzt, bietet einen gangbaren Weg, benötigt jedoch systematische Unterstützung und marktbasierte Anreize. Aus globaler Perspektive muss die Schweiz sich internationalen Standards anpassen, Nachhaltigkeit in Handelsabkommen fördern und ihren Einfluss nutzen, um weltweit umweltbewusste Praktiken voranzutreiben. Dieser Wandel kann nur durch koordinierte Maßnahmen und entschlossene Antworten von Politik, Märkten und Gesellschaft gelingen, damit Ernährungssysteme sowohl die Menschen als auch den Planeten nachhaltig versorgen können.\",\n",
    "\n",
    "    \"Le système alimentaire suisse se trouve à un tournant et nécessite une transformation réfléchie pour relever les défis écologiques, économiques et sociaux. Le changement est inévitable, car les systèmes actuels peinent à résoudre des problèmes tels que la pollution, la perte de biodiversité et les inefficacités qui vont à l’encontre des objectifs de durabilité. La responsabilité de l’action incombe à de multiples acteurs : les gouvernements doivent intervenir de manière stratégique, par exemple en intégrant des critères environnementaux dans les subventions agricoles, tandis que les entreprises et les consommateurs partagent le devoir de réduire les déchets et d’adopter des pratiques durables. Économiquement, l’agriculture suisse est à la fois compétitive à l’échelle mondiale et fortement protégée, ce qui nécessite des politiques équilibrées qui soutiennent l’innovation sans encourager l’isolationnisme. Par ailleurs, la pollution et la perte de biodiversité exigent des réponses urgentes, car les pratiques agricoles intensives ont considérablement dégradé les habitats naturels. Une agriculture durable, qui privilégie des méthodes éco-responsables et à faible impact, offre une voie viable, mais nécessite un soutien systématique et des incitations basées sur le marché. D’un point de vue global, la Suisse doit également s’aligner sur les normes internationales, promouvoir la durabilité dans les accords commerciaux et utiliser son influence pour encourager des pratiques écologiques à travers le monde. Cette transformation ne pourra réussir que grâce à une action coordonnée et des réponses déterminées des décideurs politiques, des marchés et de la société, garantissant ainsi que les systèmes alimentaires puissent soutenir à la fois les populations et la planète de manière durable.\",\n",
    "\n",
    "    \"Il sistema alimentare svizzero si trova a un punto di svolta e necessita di una trasformazione ponderata per affrontare le sfide ecologiche, economiche e sociali. Il cambiamento è inevitabile, poiché i sistemi attuali faticano a risolvere problemi come l’inquinamento, la perdita di biodiversità e le inefficienze che ostacolano gli obiettivi di sostenibilità. La responsabilità dell’azione ricade su molteplici attori: i governi devono intervenire strategicamente, ad esempio integrando criteri ambientali nei sussidi agricoli, mentre imprese e consumatori condividono il dovere di ridurre gli sprechi e adottare pratiche sostenibili. Dal punto di vista economico, l’agricoltura svizzera è sia competitiva a livello globale che fortemente protetta, richiedendo politiche equilibrate che promuovano l’innovazione senza favorire l’isolazionismo. Inoltre, l’inquinamento e la perdita di biodiversità richiedono risposte urgenti, poiché le pratiche agricole intensive hanno gravemente degradato gli habitat naturali. L’agricoltura sostenibile, che privilegia metodi ecologici e a basso impatto, rappresenta una strada percorribile, ma necessita di un supporto sistematico e di incentivi di mercato. Da una prospettiva globale, la Svizzera deve anche allinearsi agli standard internazionali, promuovere la sostenibilità negli accordi commerciali e utilizzare la sua influenza per incoraggiare pratiche ecologiche in tutto il mondo. Questa trasformazione potrà avere successo solo attraverso un’azione coordinata e risposte decise da parte dei decisori politici, dei mercati e della società, garantendo che i sistemi alimentari possano sostenere in modo duraturo sia le persone che il pianeta.\"\n",
    "]\n",
    "\n",
    "# Create a DataFrame\n",
    "df = pd.DataFrame(paragraphs, columns=[\"text_0\"])\n"
   ]
  },
  {
   "cell_type": "markdown",
   "metadata": {},
   "source": [
    "## Reality of Change\n"
   ]
  },
  {
   "cell_type": "markdown",
   "metadata": {},
   "source": [
    "### Prompt"
   ]
  },
  {
   "cell_type": "markdown",
   "metadata": {},
   "source": [
    "You are an experienced journalist. Write a summarizing paragraph about the future of Switzerland's food system concerning the topic of \"Reality of change\" on the basis of the attached file.\n",
    "\n",
    "(added: \"data/99_anchor_data/Merged_Full_Validation_Anchor_Background.pdf\")\n",
    "\n",
    "(+ translate to german, french, italian)"
   ]
  },
  {
   "cell_type": "markdown",
   "metadata": {},
   "source": [
    "### Output"
   ]
  },
  {
   "cell_type": "markdown",
   "metadata": {},
   "source": [
    "The transformation of Switzerland's food system reflects a complex interplay between recognizing crises and navigating barriers to change. The system faces an \"unresolved steering problem,\" where productionist policies have historically failed to address global hunger and environmental challenges, exacerbating undernutrition, malnutrition, and overnutrition. Grassroots movements and global initiatives spotlight these crises, yet corporate power, neoliberal influences, and the prioritization of expert over lay knowledge slow progress. Recent efforts like the Swiss Citizens’ Assembly for Food Policy emphasize inclusive, democratic deliberation, aiming to align sustainability with the realities of production and consumption. This shift highlights the urgency of reconciling societal expectations with ecological and economic realities to achieve a resilient and equitable food future​"
   ]
  },
  {
   "cell_type": "markdown",
   "metadata": {},
   "source": [
    "Die Transformation des Schweizer Ernährungssystems spiegelt ein komplexes Zusammenspiel zwischen der Anerkennung von Krisen und der Überwindung von Veränderungsbarrieren wider. Das System steht vor einem „unaufgelösten Steuerungsproblem“, bei dem produktivistische Politiken historisch daran gescheitert sind, den weltweiten Hunger und ökologische Herausforderungen zu bewältigen. Dies hat Unterernährung, Fehlernährung und Überernährung zusätzlich verschärft. Basisbewegungen und globale Initiativen machen auf diese Krisen aufmerksam, doch bremsen die Macht großer Konzerne, neoliberale Einflüsse und die Priorisierung von Expertenwissen gegenüber dem Wissen der Allgemeinheit den Fortschritt. Jüngste Bemühungen, wie der Schweizer Bürger:innenrat für Ernährungspolitik, setzen auf inklusive, demokratische Beratungen, um Nachhaltigkeit mit den Realitäten von Produktion und Konsum in Einklang zu bringen. Dieser Wandel unterstreicht die Dringlichkeit, gesellschaftliche Erwartungen mit ökologischen und wirtschaftlichen Realitäten zu vereinen, um eine widerstandsfähige und gerechte Ernährungszukunft zu erreichen​"
   ]
  },
  {
   "cell_type": "markdown",
   "metadata": {},
   "source": [
    "La transformation du système alimentaire suisse reflète une interaction complexe entre la reconnaissance des crises et le dépassement des obstacles au changement. Le système est confronté à un « problème de gouvernance non résolu », où les politiques productivistes ont historiquement échoué à résoudre la faim mondiale et les défis environnementaux, aggravant ainsi la sous-alimentation, la malnutrition et la suralimentation. Les mouvements citoyens et les initiatives globales mettent en lumière ces crises, mais la puissance des grandes entreprises, les influences néolibérales et la priorisation du savoir expert au détriment des connaissances citoyennes freinent les progrès. Les efforts récents, comme l’Assemblée citoyenne suisse pour la politique alimentaire, misent sur des délibérations inclusives et démocratiques pour aligner la durabilité sur les réalités de la production et de la consommation. Ce changement souligne l’urgence de concilier les attentes sociétales avec les réalités écologiques et économiques afin de parvenir à un avenir alimentaire résilient et équitable​"
   ]
  },
  {
   "cell_type": "markdown",
   "metadata": {},
   "source": [
    "La trasformazione del sistema alimentare svizzero riflette un complesso intreccio tra il riconoscimento delle crisi e il superamento degli ostacoli al cambiamento. Il sistema affronta un \"problema di governance irrisolto\", in cui le politiche produttivistiche hanno storicamente fallito nel risolvere la fame globale e le sfide ambientali, aggravando la sottoalimentazione, la malnutrizione e la sovralimentazione. Movimenti di base e iniziative globali evidenziano queste crisi, ma il potere delle grandi aziende, le influenze neoliberiste e la priorità data al sapere degli esperti rispetto a quello dei cittadini rallentano i progressi. Sforzi recenti, come l'Assemblea dei cittadini svizzeri per la politica alimentare, puntano su consultazioni democratiche e inclusive per allineare la sostenibilità con le realtà della produzione e del consumo. Questo cambiamento evidenzia l'urgenza di conciliare le aspettative sociali con le realtà ecologiche ed economiche per raggiungere un futuro alimentare resiliente ed equo​"
   ]
  },
  {
   "cell_type": "markdown",
   "metadata": {},
   "source": [
    "### Create DF"
   ]
  },
  {
   "cell_type": "code",
   "execution_count": null,
   "metadata": {},
   "outputs": [],
   "source": [
    "# Define the paragraphs\n",
    "paragraphs = [\n",
    "    \"Die Transformation des Schweizer Ernährungssystems spiegelt ein komplexes Zusammenspiel zwischen der Anerkennung von Krisen und der Überwindung von Veränderungsbarrieren wider. Das System steht vor einem „unaufgelösten Steuerungsproblem“, bei dem produktivistische Politiken historisch daran gescheitert sind, den weltweiten Hunger und ökologische Herausforderungen zu bewältigen. Dies hat Unterernährung, Fehlernährung und Überernährung zusätzlich verschärft. Basisbewegungen und globale Initiativen machen auf diese Krisen aufmerksam, doch bremsen die Macht großer Konzerne, neoliberale Einflüsse und die Priorisierung von Expertenwissen gegenüber dem Wissen der Allgemeinheit den Fortschritt. Jüngste Bemühungen, wie der Schweizer Bürger:innenrat für Ernährungspolitik, setzen auf inklusive, demokratische Beratungen, um Nachhaltigkeit mit den Realitäten von Produktion und Konsum in Einklang zu bringen. Dieser Wandel unterstreicht die Dringlichkeit, gesellschaftliche Erwartungen mit ökologischen und wirtschaftlichen Realitäten zu vereinen, um eine widerstandsfähige und gerechte Ernährungszukunft zu erreichen​\",\n",
    "\n",
    "    \"La transformation du système alimentaire suisse reflète une interaction complexe entre la reconnaissance des crises et le dépassement des obstacles au changement. Le système est confronté à un « problème de gouvernance non résolu », où les politiques productivistes ont historiquement échoué à résoudre la faim mondiale et les défis environnementaux, aggravant ainsi la sous-alimentation, la malnutrition et la suralimentation. Les mouvements citoyens et les initiatives globales mettent en lumière ces crises, mais la puissance des grandes entreprises, les influences néolibérales et la priorisation du savoir expert au détriment des connaissances citoyennes freinent les progrès. Les efforts récents, comme l’Assemblée citoyenne suisse pour la politique alimentaire, misent sur des délibérations inclusives et démocratiques pour aligner la durabilité sur les réalités de la production et de la consommation. Ce changement souligne l’urgence de concilier les attentes sociétales avec les réalités écologiques et économiques afin de parvenir à un avenir alimentaire résilient et équitable​\",\n",
    "\n",
    "    \"\"\"La trasformazione del sistema alimentare svizzero riflette un complesso intreccio tra il riconoscimento delle crisi e il superamento degli ostacoli al cambiamento. Il sistema affronta un \"problema di governance irrisolto\", in cui le politiche produttivistiche hanno storicamente fallito nel risolvere la fame globale e le sfide ambientali, aggravando la sottoalimentazione, la malnutrizione e la sovralimentazione. Movimenti di base e iniziative globali evidenziano queste crisi, ma il potere delle grandi aziende, le influenze neoliberiste e la priorità data al sapere degli esperti rispetto a quello dei cittadini rallentano i progressi. Sforzi recenti, come l'Assemblea dei cittadini svizzeri per la politica alimentare, puntano su consultazioni democratiche e inclusive per allineare la sostenibilità con le realtà della produzione e del consumo. Questo cambiamento evidenzia l'urgenza di conciliare le aspettative sociali con le realtà ecologiche ed economiche per raggiungere un futuro alimentare resiliente ed equo​.\"\"\",\n",
    "]\n",
    "\n",
    "# Create a DataFrame\n",
    "df[\"text_1\"] = paragraphs"
   ]
  },
  {
   "cell_type": "markdown",
   "metadata": {},
   "source": [
    "## Responsibility of Action\n"
   ]
  },
  {
   "cell_type": "markdown",
   "metadata": {},
   "source": [
    "### Prompt"
   ]
  },
  {
   "cell_type": "markdown",
   "metadata": {},
   "source": [
    "You are an experienced journalist. Write a summarizing paragraph about the future of Switzerland's food system concerning the topic of \"Responsibility of Action\" on the basis of the attached file.\n",
    "\n",
    "(added: \"data/99_anchor_data/Merged_Full_Validation_Anchor_Background.pdf\")\n",
    "\n",
    "(+ translate to german, french, italian)"
   ]
  },
  {
   "cell_type": "markdown",
   "metadata": {},
   "source": [
    "### Output"
   ]
  },
  {
   "cell_type": "markdown",
   "metadata": {},
   "source": [
    "Switzerland's food system faces a pressing need for transformation, driven by both systemic crises and societal expectations for sustainability, fairness, and environmental responsibility. Current challenges include high agricultural subsidies, limited self-sufficiency, and ecological pressures from intensive farming practices. Grassroots movements and citizens' initiatives highlight growing public demand for reforms, such as reducing pesticide use and promoting organic agriculture. However, systemic barriers persist, including corporate power, misaligned policies, and fragmented market structures. The Swiss Citizens' Assembly for Food Policy exemplifies efforts to foster inclusive dialogue, encouraging innovative, democratic solutions. This approach aligns with Switzerland's sustainable development strategy, emphasizing collaboration among citizens, policymakers, and experts to balance economic viability, ecological health, and societal well-being​​​."
   ]
  },
  {
   "cell_type": "markdown",
   "metadata": {},
   "source": [
    "Das Schweizer Lebensmittelsystem steht vor einem dringenden Bedarf an Transformation, der sowohl durch systemische Krisen als auch durch gesellschaftliche Erwartungen nach mehr Nachhaltigkeit, Fairness und ökologischer Verantwortung getrieben wird. Zu den aktuellen Herausforderungen gehören hohe Agrarsubventionen, eine begrenzte Selbstversorgung und ökologische Belastungen durch intensive Landwirtschaftspraktiken. Basisbewegungen und Bürgerinitiativen verdeutlichen die wachsende öffentliche Forderung nach Reformen, wie der Reduzierung des Pestizideinsatzes und der Förderung von biologischer Landwirtschaft. Dennoch bestehen systemische Hürden, darunter die Macht von Großkonzernen, unausgewogene politische Maßnahmen und fragmentierte Marktstrukturen. Der Bürger:innenrat für Ernährungspolitik in der Schweiz ist ein Beispiel für Bemühungen, einen inklusiven Dialog zu fördern und innovative, demokratische Lösungen zu entwickeln. Dieser Ansatz steht im Einklang mit der Schweizer Strategie für nachhaltige Entwicklung, die auf Zusammenarbeit zwischen Bürger:innen, politischen Entscheidungsträgern und Expert:innen setzt, um wirtschaftliche Tragfähigkeit, ökologische Gesundheit und gesellschaftliches Wohlergehen in Einklang zu bringen​​."
   ]
  },
  {
   "cell_type": "markdown",
   "metadata": {},
   "source": [
    "Le système alimentaire suisse fait face à un besoin urgent de transformation, motivé à la fois par des crises systémiques et par les attentes sociétales en matière de durabilité, d’équité et de responsabilité environnementale. Les défis actuels incluent des subventions agricoles élevées, une autosuffisance limitée et des pressions écologiques liées à des pratiques agricoles intensives. Les mouvements de base et les initiatives citoyennes reflètent la demande croissante de réformes, telles que la réduction de l’utilisation des pesticides et la promotion de l’agriculture biologique. Cependant, des obstacles systémiques persistent, notamment le pouvoir des grandes entreprises, des politiques désalignées et des structures de marché fragmentées. L’Assemblée citoyenne pour la politique alimentaire en Suisse illustre les efforts visant à encourager un dialogue inclusif et à développer des solutions démocratiques innovantes. Cette approche s’aligne sur la stratégie suisse de développement durable, mettant l’accent sur la collaboration entre citoyens, décideurs politiques et experts pour équilibrer viabilité économique, santé écologique et bien-être sociétal​."
   ]
  },
  {
   "cell_type": "markdown",
   "metadata": {},
   "source": [
    "Il sistema alimentare svizzero affronta un bisogno urgente di trasformazione, guidato sia da crisi sistemiche che dalle aspettative della società in termini di sostenibilità, equità e responsabilità ambientale. Le sfide attuali includono alti sussidi agricoli, un'autosufficienza limitata e pressioni ecologiche derivanti da pratiche agricole intensive. I movimenti di base e le iniziative dei cittadini evidenziano una crescente richiesta di riforme, come la riduzione dell'uso di pesticidi e la promozione dell'agricoltura biologica. Tuttavia, persistono ostacoli sistemici, tra cui il potere delle grandi aziende, politiche disallineate e strutture di mercato frammentate. L'Assemblea dei Cittadini per la Politica Alimentare in Svizzera rappresenta un esempio di sforzi volti a promuovere un dialogo inclusivo e sviluppare soluzioni democratiche innovative. Questo approccio è in linea con la strategia svizzera per lo sviluppo sostenibile, che pone l'accento sulla collaborazione tra cittadini, decisori politici ed esperti per bilanciare sostenibilità economica, salute ecologica e benessere sociale​."
   ]
  },
  {
   "cell_type": "markdown",
   "metadata": {},
   "source": [
    "### Add to DF"
   ]
  },
  {
   "cell_type": "code",
   "execution_count": null,
   "metadata": {},
   "outputs": [],
   "source": [
    "# Define the paragraphs\n",
    "paragraphs = [\n",
    "    \"\"\"Das Schweizer Lebensmittelsystem steht vor einem dringenden Bedarf an Transformation, der sowohl durch systemische Krisen als auch durch gesellschaftliche Erwartungen nach mehr Nachhaltigkeit, Fairness und ökologischer Verantwortung getrieben wird. Zu den aktuellen Herausforderungen gehören hohe Agrarsubventionen, eine begrenzte Selbstversorgung und ökologische Belastungen durch intensive Landwirtschaftspraktiken. Basisbewegungen und Bürgerinitiativen verdeutlichen die wachsende öffentliche Forderung nach Reformen, wie der Reduzierung des Pestizideinsatzes und der Förderung von biologischer Landwirtschaft. Dennoch bestehen systemische Hürden, darunter die Macht von Großkonzernen, unausgewogene politische Maßnahmen und fragmentierte Marktstrukturen. Der Bürger:innenrat für Ernährungspolitik in der Schweiz ist ein Beispiel für Bemühungen, einen inklusiven Dialog zu fördern und innovative, demokratische Lösungen zu entwickeln. Dieser Ansatz steht im Einklang mit der Schweizer Strategie für nachhaltige Entwicklung, die auf Zusammenarbeit zwischen Bürger:innen, politischen Entscheidungsträgern und Expert:innen setzt, um wirtschaftliche Tragfähigkeit, ökologische Gesundheit und gesellschaftliches Wohlergehen in Einklang zu bringen.\"\"\",\n",
    "\n",
    "    \"Le système alimentaire suisse fait face à un besoin urgent de transformation, motivé à la fois par des crises systémiques et par les attentes sociétales en matière de durabilité, d’équité et de responsabilité environnementale. Les défis actuels incluent des subventions agricoles élevées, une autosuffisance limitée et des pressions écologiques liées à des pratiques agricoles intensives. Les mouvements de base et les initiatives citoyennes reflètent la demande croissante de réformes, telles que la réduction de l’utilisation des pesticides et la promotion de l’agriculture biologique. Cependant, des obstacles systémiques persistent, notamment le pouvoir des grandes entreprises, des politiques désalignées et des structures de marché fragmentées. L’Assemblée citoyenne pour la politique alimentaire en Suisse illustre les efforts visant à encourager un dialogue inclusif et à développer des solutions démocratiques innovantes. Cette approche s’aligne sur la stratégie suisse de développement durable, mettant l’accent sur la collaboration entre citoyens, décideurs politiques et experts pour équilibrer viabilité économique, santé écologique et bien-être sociétal​.\",\n",
    "\n",
    "    \"Il sistema alimentare svizzero affronta un bisogno urgente di trasformazione, guidato sia da crisi sistemiche che dalle aspettative della società in termini di sostenibilità, equità e responsabilità ambientale. Le sfide attuali includono alti sussidi agricoli, un'autosufficienza limitata e pressioni ecologiche derivanti da pratiche agricole intensive. I movimenti di base e le iniziative dei cittadini evidenziano una crescente richiesta di riforme, come la riduzione dell'uso di pesticidi e la promozione dell'agricoltura biologica. Tuttavia, persistono ostacoli sistemici, tra cui il potere delle grandi aziende, politiche disallineate e strutture di mercato frammentate. L'Assemblea dei Cittadini per la Politica Alimentare in Svizzera rappresenta un esempio di sforzi volti a promuovere un dialogo inclusivo e sviluppare soluzioni democratiche innovative. Questo approccio è in linea con la strategia svizzera per lo sviluppo sostenibile, che pone l'accento sulla collaborazione tra cittadini, decisori politici ed esperti per bilanciare sostenibilità economica, salute ecologica e benessere sociale​.\"\n",
    "]\n",
    "\n",
    "# Add to DataFrame\n",
    "df['text_2'] = paragraphs"
   ]
  },
  {
   "cell_type": "markdown",
   "metadata": {},
   "source": [
    "## Economy and Markets\n"
   ]
  },
  {
   "cell_type": "markdown",
   "metadata": {},
   "source": [
    "### Prompt"
   ]
  },
  {
   "cell_type": "markdown",
   "metadata": {},
   "source": [
    "You are an experienced journalist. Write a summarizing paragraph about the future of Switzerland's food system concerning the topic of \"Economy and Markets\" on the basis of the attached file.\n",
    "\n",
    "(added: \"data/99_anchor_data/Merged_Full_Validation_Anchor_Background.pdf\")\n",
    "\n",
    "(+ translate to german, french, italian)"
   ]
  },
  {
   "cell_type": "markdown",
   "metadata": {},
   "source": [
    "### Output"
   ]
  },
  {
   "cell_type": "markdown",
   "metadata": {},
   "source": [
    "Switzerland's future food system under the lens of \"Economy and Markets\" must address significant challenges and leverage unique opportunities. The agricultural sector is highly protected compared to international standards but struggles with low profitability, particularly in mountainous regions, where incomes can fall 40% below comparable wages. The Swiss food system faces a tension between maintaining international competitiveness and adhering to sustainability goals. Innovations, such as targeted direct payments and regulatory frameworks, are necessary to balance ecological impact with economic viability. The current system also requires greater fairness in profit distribution across the food chain, empowering producers against the concentration of market power held by large processors and retailers. While Swiss agricultural policy emphasizes multifunctionality and sustainable development, there is a growing need for reforms that align consumer expectations, international trade realities, and the preservation of biodiversity. These factors collectively demand a more integrated approach to policy-making, fostering a resilient and equitable food economy."
   ]
  },
  {
   "cell_type": "markdown",
   "metadata": {},
   "source": [
    "Die Zukunft des Schweizer Ernährungssystems im Bereich „Wirtschaft und Märkte“ steht vor erheblichen Herausforderungen, birgt jedoch auch einzigartige Chancen. Der Agrarsektor ist im internationalen Vergleich stark geschützt, kämpft jedoch mit geringer Rentabilität, insbesondere in Bergregionen, wo die Einkommen bis zu 40 % unter vergleichbaren Löhnen liegen können. Das Schweizer Ernährungssystem steht in einem Spannungsfeld zwischen der Aufrechterhaltung der internationalen Wettbewerbsfähigkeit und der Erreichung von Nachhaltigkeitszielen. Innovationen wie gezielte Direktzahlungen und regulatorische Rahmenbedingungen sind notwendig, um ökologische Auswirkungen mit wirtschaftlicher Tragfähigkeit in Einklang zu bringen. Zudem bedarf es einer gerechteren Gewinnverteilung entlang der gesamten Wertschöpfungskette, um die Produzenten gegenüber der Marktmacht großer Verarbeiter und Einzelhändler zu stärken. Während die Schweizer Agrarpolitik Multifunktionalität und nachhaltige Entwicklung betont, wächst der Bedarf an Reformen, die die Erwartungen der Konsumenten, die Realitäten des internationalen Handels und den Schutz der Biodiversität miteinander in Einklang bringen. Diese Faktoren erfordern einen integrierten Ansatz in der Politikgestaltung, um eine widerstandsfähige und gerechte Ernährungswirtschaft zu fördern."
   ]
  },
  {
   "cell_type": "markdown",
   "metadata": {},
   "source": [
    "L'avenir du système alimentaire suisse dans le domaine de l'« économie et des marchés » fait face à d'importants défis tout en offrant des opportunités uniques. Le secteur agricole est fortement protégé par rapport aux normes internationales, mais il souffre d'une faible rentabilité, notamment dans les régions montagneuses où les revenus peuvent être inférieurs de 40 % aux salaires comparables. Le système alimentaire suisse se trouve dans une tension entre le maintien de la compétitivité internationale et l'atteinte des objectifs de durabilité. Des innovations telles que des paiements directs ciblés et des cadres réglementaires sont nécessaires pour équilibrer les impacts écologiques avec la viabilité économique. En outre, une répartition plus équitable des bénéfices tout au long de la chaîne de valeur est indispensable pour renforcer le pouvoir des producteurs face à la concentration du marché détenue par les grands transformateurs et détaillants. Bien que la politique agricole suisse mette l'accent sur la multifonctionnalité et le développement durable, la nécessité de réformes s'accroît pour aligner les attentes des consommateurs, les réalités du commerce international et la préservation de la biodiversité. Ces facteurs exigent une approche intégrée de la politique afin de promouvoir une économie alimentaire résiliente et équitable."
   ]
  },
  {
   "cell_type": "markdown",
   "metadata": {},
   "source": [
    "Il futuro del sistema alimentare svizzero nell'ambito di \"Economia e Mercati\" deve affrontare sfide significative ma offre anche opportunità uniche. Il settore agricolo è altamente protetto rispetto agli standard internazionali, ma lotta con una bassa redditività, in particolare nelle regioni montane, dove i redditi possono essere inferiori del 40% rispetto ai salari comparabili. Il sistema alimentare svizzero si trova in una tensione tra il mantenimento della competitività internazionale e il raggiungimento degli obiettivi di sostenibilità. Sono necessarie innovazioni, come pagamenti diretti mirati e quadri normativi, per bilanciare l'impatto ecologico con la sostenibilità economica. Inoltre, è essenziale una distribuzione più equa dei profitti lungo tutta la filiera, rafforzando il potere dei produttori contro la concentrazione del mercato detenuta dai grandi trasformatori e rivenditori. Sebbene la politica agricola svizzera enfatizzi la multifunzionalità e lo sviluppo sostenibile, cresce la necessità di riforme che allineino le aspettative dei consumatori, le realtà del commercio internazionale e la salvaguardia della biodiversità. Questi fattori richiedono un approccio integrato alle politiche per promuovere un'economia alimentare resiliente ed equa."
   ]
  },
  {
   "cell_type": "markdown",
   "metadata": {},
   "source": [
    "### Add to DF"
   ]
  },
  {
   "cell_type": "code",
   "execution_count": null,
   "metadata": {},
   "outputs": [],
   "source": [
    "# Define the paragraphs\n",
    "paragraphs = [\n",
    "    \"\"\"Die Zukunft des Schweizer Ernährungssystems im Bereich „Wirtschaft und Märkte“ steht vor erheblichen Herausforderungen, birgt jedoch auch einzigartige Chancen. Der Agrarsektor ist im internationalen Vergleich stark geschützt, kämpft jedoch mit geringer Rentabilität, insbesondere in Bergregionen, wo die Einkommen bis zu 40 % unter vergleichbaren Löhnen liegen können. Das Schweizer Ernährungssystem steht in einem Spannungsfeld zwischen der Aufrechterhaltung der internationalen Wettbewerbsfähigkeit und der Erreichung von Nachhaltigkeitszielen. Innovationen wie gezielte Direktzahlungen und regulatorische Rahmenbedingungen sind notwendig, um ökologische Auswirkungen mit wirtschaftlicher Tragfähigkeit in Einklang zu bringen. Zudem bedarf es einer gerechteren Gewinnverteilung entlang der gesamten Wertschöpfungskette, um die Produzenten gegenüber der Marktmacht großer Verarbeiter und Einzelhändler zu stärken. Während die Schweizer Agrarpolitik Multifunktionalität und nachhaltige Entwicklung betont, wächst der Bedarf an Reformen, die die Erwartungen der Konsumenten, die Realitäten des internationalen Handels und den Schutz der Biodiversität miteinander in Einklang bringen. Diese Faktoren erfordern einen integrierten Ansatz in der Politikgestaltung, um eine widerstandsfähige und gerechte Ernährungswirtschaft zu fördern.\"\"\",\n",
    "\n",
    "    \"L'avenir du système alimentaire suisse dans le domaine de l'« économie et des marchés » fait face à d'importants défis tout en offrant des opportunités uniques. Le secteur agricole est fortement protégé par rapport aux normes internationales, mais il souffre d'une faible rentabilité, notamment dans les régions montagneuses où les revenus peuvent être inférieurs de 40 % aux salaires comparables. Le système alimentaire suisse se trouve dans une tension entre le maintien de la compétitivité internationale et l'atteinte des objectifs de durabilité. Des innovations telles que des paiements directs ciblés et des cadres réglementaires sont nécessaires pour équilibrer les impacts écologiques avec la viabilité économique. En outre, une répartition plus équitable des bénéfices tout au long de la chaîne de valeur est indispensable pour renforcer le pouvoir des producteurs face à la concentration du marché détenue par les grands transformateurs et détaillants. Bien que la politique agricole suisse mette l'accent sur la multifonctionnalité et le développement durable, la nécessité de réformes s'accroît pour aligner les attentes des consommateurs, les réalités du commerce international et la préservation de la biodiversité. Ces facteurs exigent une approche intégrée de la politique afin de promouvoir une économie alimentaire résiliente et équitable.\",\n",
    "\n",
    "    \"\"\"Il futuro del sistema alimentare svizzero nell'ambito di \"Economia e Mercati\" deve affrontare sfide significative ma offre anche opportunità uniche. Il settore agricolo è altamente protetto rispetto agli standard internazionali, ma lotta con una bassa redditività, in particolare nelle regioni montane, dove i redditi possono essere inferiori del 40% rispetto ai salari comparabili. Il sistema alimentare svizzero si trova in una tensione tra il mantenimento della competitività internazionale e il raggiungimento degli obiettivi di sostenibilità. Sono necessarie innovazioni, come pagamenti diretti mirati e quadri normativi, per bilanciare l'impatto ecologico con la sostenibilità economica. Inoltre, è essenziale una distribuzione più equa dei profitti lungo tutta la filiera, rafforzando il potere dei produttori contro la concentrazione del mercato detenuta dai grandi trasformatori e rivenditori. Sebbene la politica agricola svizzera enfatizzi la multifunzionalità e lo sviluppo sostenibile, cresce la necessità di riforme che allineino le aspettative dei consumatori, le realtà del commercio internazionale e la salvaguardia della biodiversità. Questi fattori richiedono un approccio integrato alle politiche per promuovere un'economia alimentare resiliente ed equa.\"\"\"\n",
    "]\n",
    "\n",
    "# Add to DataFrame\n",
    "df['text_3'] = paragraphs"
   ]
  },
  {
   "cell_type": "markdown",
   "metadata": {},
   "source": [
    "## Pollution and Biodiversity"
   ]
  },
  {
   "cell_type": "markdown",
   "metadata": {},
   "source": [
    "### Prompt"
   ]
  },
  {
   "cell_type": "markdown",
   "metadata": {},
   "source": [
    "You are an experienced journalist. Write a summarizing paragraph about the future of Switzerland's food system concerning the topic of \"Pollution and Biodiversity\" on the basis of the attached file.\n",
    "\n",
    "(added: \"data/99_anchor_data/Merged_Full_Validation_Anchor_Background.pdf\")\n",
    "\n",
    "(+ translate to german, french, italian)"
   ]
  },
  {
   "cell_type": "markdown",
   "metadata": {},
   "source": [
    "### Output"
   ]
  },
  {
   "cell_type": "markdown",
   "metadata": {},
   "source": [
    "Switzerland's food system is navigating a pivotal transformation, with pollution and biodiversity as central challenges. The country's agriculture significantly impacts ecosystems through practices like excessive nitrogen and phosphorus use, which drive biodiversity loss and water contamination. Intensive farming methods, monocultures, and high livestock density exacerbate these pressures, threatening the delicate balance of agricultural landscapes. To address these issues, Switzerland's strategies include enhancing sustainable production practices, incentivizing ecological measures, and promoting reduced pesticide use. Policymakers aim to balance economic, environmental, and social priorities, fostering innovation while ensuring long-term food security and ecological resilience​."
   ]
  },
  {
   "cell_type": "markdown",
   "metadata": {},
   "source": [
    "Das Schweizer Ernährungssystem steht vor einer entscheidenden Transformation, wobei Verschmutzung und Biodiversität zentrale Herausforderungen darstellen. Die Landwirtschaft des Landes hat erhebliche Auswirkungen auf die Ökosysteme, insbesondere durch übermäßige Stickstoff- und Phosphornutzung, die den Verlust der Biodiversität und die Verschmutzung von Gewässern vorantreiben. Intensivierte Anbaumethoden, Monokulturen und eine hohe Viehdichte verschärfen diese Belastungen und gefährden das fragile Gleichgewicht der Agrarlandschaften. Um diese Probleme anzugehen, setzt die Schweiz auf Strategien wie die Förderung nachhaltiger Produktionspraktiken, die Schaffung von Anreizen für ökologische Maßnahmen und die Reduktion des Pestizideinsatzes. Die Politik strebt an, wirtschaftliche, ökologische und soziale Prioritäten in Einklang zu bringen, Innovationen zu fördern und gleichzeitig langfristige Ernährungssicherheit und ökologische Resilienz sicherzustellen."
   ]
  },
  {
   "cell_type": "markdown",
   "metadata": {},
   "source": [
    "Le système alimentaire suisse est à un tournant crucial, avec la pollution et la biodiversité au cœur des enjeux. L'agriculture du pays a des impacts significatifs sur les écosystèmes, notamment en raison de l'utilisation excessive d'azote et de phosphore, qui accélère la perte de biodiversité et la pollution des eaux. Les méthodes agricoles intensives, les monocultures et la forte densité de bétail aggravent ces pressions, menaçant l'équilibre fragile des paysages agricoles. Pour relever ces défis, la Suisse mise sur des stratégies telles que la promotion de pratiques de production durable, la création d'incitations pour des mesures écologiques et la réduction de l'utilisation des pesticides. Les décideurs politiques visent à équilibrer les priorités économiques, environnementales et sociales, à encourager l'innovation tout en garantissant la sécurité alimentaire et la résilience écologique à long terme​."
   ]
  },
  {
   "cell_type": "markdown",
   "metadata": {},
   "source": [
    "Il sistema alimentare svizzero si trova a un punto di svolta cruciale, con l'inquinamento e la biodiversità al centro delle sfide. L'agricoltura del paese ha un impatto significativo sugli ecosistemi, in particolare a causa dell'uso eccessivo di azoto e fosforo, che accelera la perdita di biodiversità e la contaminazione delle acque. Le pratiche agricole intensive, le monocolture e l'elevata densità di bestiame aggravano queste pressioni, mettendo a rischio il delicato equilibrio dei paesaggi agricoli. Per affrontare queste problematiche, la Svizzera punta su strategie come la promozione di pratiche di produzione sostenibile, la creazione di incentivi per misure ecologiche e la riduzione dell'uso di pesticidi. I responsabili politici mirano a bilanciare le priorità economiche, ambientali e sociali, promuovendo l'innovazione e garantendo al contempo la sicurezza alimentare e la resilienza ecologica a lungo termine​"
   ]
  },
  {
   "cell_type": "markdown",
   "metadata": {},
   "source": [
    "### Add to DF"
   ]
  },
  {
   "cell_type": "code",
   "execution_count": null,
   "metadata": {},
   "outputs": [],
   "source": [
    "# Define the paragraphs\n",
    "paragraphs = [\n",
    "    \"\"\"Das Schweizer Ernährungssystem steht vor einer entscheidenden Transformation, wobei Verschmutzung und Biodiversität zentrale Herausforderungen darstellen. Die Landwirtschaft des Landes hat erhebliche Auswirkungen auf die Ökosysteme, insbesondere durch übermäßige Stickstoff- und Phosphornutzung, die den Verlust der Biodiversität und die Verschmutzung von Gewässern vorantreiben. Intensivierte Anbaumethoden, Monokulturen und eine hohe Viehdichte verschärfen diese Belastungen und gefährden das fragile Gleichgewicht der Agrarlandschaften. Um diese Probleme anzugehen, setzt die Schweiz auf Strategien wie die Förderung nachhaltiger Produktionspraktiken, die Schaffung von Anreizen für ökologische Maßnahmen und die Reduktion des Pestizideinsatzes. Die Politik strebt an, wirtschaftliche, ökologische und soziale Prioritäten in Einklang zu bringen, Innovationen zu fördern und gleichzeitig langfristige Ernährungssicherheit und ökologische Resilienz sicherzustellen.\"\"\",\n",
    "\n",
    "    \"Le système alimentaire suisse est à un tournant crucial, avec la pollution et la biodiversité au cœur des enjeux. L'agriculture du pays a des impacts significatifs sur les écosystèmes, notamment en raison de l'utilisation excessive d'azote et de phosphore, qui accélère la perte de biodiversité et la pollution des eaux. Les méthodes agricoles intensives, les monocultures et la forte densité de bétail aggravent ces pressions, menaçant l'équilibre fragile des paysages agricoles. Pour relever ces défis, la Suisse mise sur des stratégies telles que la promotion de pratiques de production durable, la création d'incitations pour des mesures écologiques et la réduction de l'utilisation des pesticides. Les décideurs politiques visent à équilibrer les priorités économiques, environnementales et sociales, à encourager l'innovation tout en garantissant la sécurité alimentaire et la résilience écologique à long terme​.\",\n",
    "\n",
    "    \"Il sistema alimentare svizzero si trova a un punto di svolta cruciale, con l'inquinamento e la biodiversità al centro delle sfide. L'agricoltura del paese ha un impatto significativo sugli ecosistemi, in particolare a causa dell'uso eccessivo di azoto e fosforo, che accelera la perdita di biodiversità e la contaminazione delle acque. Le pratiche agricole intensive, le monocolture e l'elevata densità di bestiame aggravano queste pressioni, mettendo a rischio il delicato equilibrio dei paesaggi agricoli. Per affrontare queste problematiche, la Svizzera punta su strategie come la promozione di pratiche di produzione sostenibile, la creazione di incentivi per misure ecologiche e la riduzione dell'uso di pesticidi. I responsabili politici mirano a bilanciare le priorità economiche, ambientali e sociali, promuovendo l'innovazione e garantendo al contempo la sicurezza alimentare e la resilienza ecologica a lungo termine​\"\n",
    "]\n",
    "\n",
    "# Add to DataFrame\n",
    "df['text_4'] = paragraphs"
   ]
  },
  {
   "cell_type": "markdown",
   "metadata": {},
   "source": [
    "## Sustainable Agriculture"
   ]
  },
  {
   "cell_type": "markdown",
   "metadata": {},
   "source": [
    "### Prompt"
   ]
  },
  {
   "cell_type": "markdown",
   "metadata": {},
   "source": [
    "You are an experienced journalist. Write a summarizing paragraph about the future of Switzerland's food system concerning the topic of \"Sustainable Agriculture\" on the basis of the attached file.\n",
    "\n",
    "(added: \"data/99_anchor_data/Merged_Full_Validation_Anchor_Background.pdf\")\n",
    "\n",
    "(+ translate to german, french, italian)"
   ]
  },
  {
   "cell_type": "markdown",
   "metadata": {},
   "source": [
    "### Output"
   ]
  },
  {
   "cell_type": "markdown",
   "metadata": {},
   "source": [
    "Switzerland's future in sustainable agriculture is marked by a challenging interplay of environmental, economic, and social factors. The country faces the dual necessity of enhancing productivity while safeguarding ecological limits, with the agricultural sector still heavily reliant on subsidies and protective policies. Innovative approaches, such as citizen assemblies and targeted direct payments for environmentally friendly practices, have been proposed to overcome systemic barriers. Grassroots movements and global trends emphasize reduced pesticide use, enhanced biodiversity, and a shift towards plant-based diets. With significant public support for sustainability but slow policy adoption, Switzerland's strategy involves balancing protectionist tendencies with global competitiveness and fostering open dialogues to align with its sustainable development goals."
   ]
  },
  {
   "cell_type": "markdown",
   "metadata": {},
   "source": [
    "Die Zukunft der nachhaltigen Landwirtschaft in der Schweiz ist geprägt von einem komplexen Zusammenspiel aus ökologischen, wirtschaftlichen und sozialen Faktoren. Das Land steht vor der doppelten Herausforderung, die Produktivität zu steigern und gleichzeitig ökologische Grenzen einzuhalten, wobei der Agrarsektor weiterhin stark von Subventionen und Schutzmaßnahmen abhängig ist. Innovative Ansätze wie Bürger:innenräte und gezielte Direktzahlungen für umweltfreundliche Praktiken wurden vorgeschlagen, um systemische Barrieren zu überwinden. Basisbewegungen und globale Trends betonen den reduzierten Einsatz von Pestiziden, die Förderung der Biodiversität und eine verstärkte Orientierung hin zu pflanzlichen Ernährungsweisen. Angesichts einer breiten öffentlichen Unterstützung für Nachhaltigkeit, aber einer langsamen politischen Umsetzung, setzt die Schweiz auf eine Strategie, die protektionistische Tendenzen mit globaler Wettbewerbsfähigkeit ausbalanciert und offene Dialoge fördert, um ihre Ziele für nachhaltige Entwicklung zu erreichen."
   ]
  },
  {
   "cell_type": "markdown",
   "metadata": {},
   "source": [
    "L'avenir de l'agriculture durable en Suisse est marqué par une interaction complexe entre des facteurs écologiques, économiques et sociaux. Le pays doit relever le double défi d'augmenter la productivité tout en respectant les limites écologiques, alors que le secteur agricole reste fortement dépendant des subventions et des politiques de protection. Des approches innovantes, telles que les assemblées citoyennes et les paiements directs ciblés pour des pratiques respectueuses de l'environnement, ont été proposées pour surmonter les obstacles systémiques. Les mouvements de base et les tendances mondiales mettent en avant la réduction de l'utilisation des pesticides, la promotion de la biodiversité et une transition vers une alimentation davantage axée sur les végétaux. Face à un large soutien public pour la durabilité mais une mise en œuvre politique lente, la Suisse mise sur une stratégie visant à équilibrer les tendances protectionnistes avec la compétitivité mondiale et à favoriser les dialogues ouverts pour atteindre ses objectifs de développement durable."
   ]
  },
  {
   "cell_type": "markdown",
   "metadata": {},
   "source": [
    "Il futuro dell'agricoltura sostenibile in Svizzera è caratterizzato da un'interazione complessa tra fattori ecologici, economici e sociali. Il paese si trova ad affrontare la doppia sfida di aumentare la produttività rispettando i limiti ecologici, mentre il settore agricolo continua a dipendere fortemente da sovvenzioni e politiche protezionistiche. Sono stati proposti approcci innovativi, come le assemblee cittadine e i pagamenti diretti mirati per pratiche rispettose dell'ambiente, per superare le barriere sistemiche. I movimenti di base e le tendenze globali sottolineano la necessità di ridurre l'uso di pesticidi, promuovere la biodiversità e orientarsi verso un'alimentazione più vegetale. Di fronte a un ampio sostegno pubblico per la sostenibilità ma a un'implementazione politica lenta, la Svizzera punta su una strategia che bilanci le tendenze protezionistiche con la competitività globale e favorisca dialoghi aperti per raggiungere i suoi obiettivi di sviluppo sostenibile."
   ]
  },
  {
   "cell_type": "markdown",
   "metadata": {},
   "source": [
    "### Add to DF"
   ]
  },
  {
   "cell_type": "code",
   "execution_count": null,
   "metadata": {},
   "outputs": [],
   "source": [
    "# Define the paragraphs\n",
    "paragraphs = [\n",
    "    \"\"\"Die Zukunft der nachhaltigen Landwirtschaft in der Schweiz ist geprägt von einem komplexen Zusammenspiel aus ökologischen, wirtschaftlichen und sozialen Faktoren. Das Land steht vor der doppelten Herausforderung, die Produktivität zu steigern und gleichzeitig ökologische Grenzen einzuhalten, wobei der Agrarsektor weiterhin stark von Subventionen und Schutzmaßnahmen abhängig ist. Innovative Ansätze wie Bürger:innenräte und gezielte Direktzahlungen für umweltfreundliche Praktiken wurden vorgeschlagen, um systemische Barrieren zu überwinden. Basisbewegungen und globale Trends betonen den reduzierten Einsatz von Pestiziden, die Förderung der Biodiversität und eine verstärkte Orientierung hin zu pflanzlichen Ernährungsweisen. Angesichts einer breiten öffentlichen Unterstützung für Nachhaltigkeit, aber einer langsamen politischen Umsetzung, setzt die Schweiz auf eine Strategie, die protektionistische Tendenzen mit globaler Wettbewerbsfähigkeit ausbalanciert und offene Dialoge fördert, um ihre Ziele für nachhaltige Entwicklung zu erreichen.\"\"\",\n",
    "\n",
    "    \"L'avenir de l'agriculture durable en Suisse est marqué par une interaction complexe entre des facteurs écologiques, économiques et sociaux. Le pays doit relever le double défi d'augmenter la productivité tout en respectant les limites écologiques, alors que le secteur agricole reste fortement dépendant des subventions et des politiques de protection. Des approches innovantes, telles que les assemblées citoyennes et les paiements directs ciblés pour des pratiques respectueuses de l'environnement, ont été proposées pour surmonter les obstacles systémiques. Les mouvements de base et les tendances mondiales mettent en avant la réduction de l'utilisation des pesticides, la promotion de la biodiversité et une transition vers une alimentation davantage axée sur les végétaux. Face à un large soutien public pour la durabilité mais une mise en œuvre politique lente, la Suisse mise sur une stratégie visant à équilibrer les tendances protectionnistes avec la compétitivité mondiale et à favoriser les dialogues ouverts pour atteindre ses objectifs de développement durable.\",\n",
    "\n",
    "    \"Il futuro dell'agricoltura sostenibile in Svizzera è caratterizzato da un'interazione complessa tra fattori ecologici, economici e sociali. Il paese si trova ad affrontare la doppia sfida di aumentare la produttività rispettando i limiti ecologici, mentre il settore agricolo continua a dipendere fortemente da sovvenzioni e politiche protezionistiche. Sono stati proposti approcci innovativi, come le assemblee cittadine e i pagamenti diretti mirati per pratiche rispettose dell'ambiente, per superare le barriere sistemiche. I movimenti di base e le tendenze globali sottolineano la necessità di ridurre l'uso di pesticidi, promuovere la biodiversità e orientarsi verso un'alimentazione più vegetale. Di fronte a un ampio sostegno pubblico per la sostenibilità ma a un'implementazione politica lenta, la Svizzera punta su una strategia che bilanci le tendenze protezionistiche con la competitività globale e favorisca dialoghi aperti per raggiungere i suoi obiettivi di sviluppo sostenibile.\"\n",
    "]\n",
    "\n",
    "# Add to DataFrame\n",
    "df['text_5'] = paragraphs"
   ]
  },
  {
   "cell_type": "markdown",
   "metadata": {},
   "source": [
    "## Global Perspective"
   ]
  },
  {
   "cell_type": "markdown",
   "metadata": {},
   "source": [
    "### Prompt"
   ]
  },
  {
   "cell_type": "markdown",
   "metadata": {},
   "source": [
    "You are an experienced journalist. Write a summarizing paragraph about the future of Switzerland's food system concerning the topic of \"Global Perspective\" on the basis of the attached file.\n",
    "\n",
    "(added: \"data/99_anchor_data/Merged_Full_Validation_Anchor_Background.pdf\")\n",
    "\n",
    "(+ translate to german, french, italian)"
   ]
  },
  {
   "cell_type": "markdown",
   "metadata": {},
   "source": [
    "### Output"
   ]
  },
  {
   "cell_type": "markdown",
   "metadata": {},
   "source": [
    "Switzerland’s future food system faces significant challenges and opportunities from a global perspective. The country’s agricultural framework is highly protected yet economically strained, with farmer incomes substantially below comparable wages. Global pressures, such as climate change, biodiversity loss, and food system sustainability, intersect with local constraints, including reliance on imports and limited self-sufficiency. Switzerland’s strategy emphasizes multifunctionality, innovation, and international cooperation, positioning its food policy as a model of sustainability. However, entrenched barriers, like corporate power and communication crises, limit transformative progress. Grassroots movements and citizen assemblies play a critical role in advocating for inclusive, systemic change. Balancing protectionism with openness, and ecological goals with economic viability, will be key to achieving a resilient and globally conscious food system."
   ]
  },
  {
   "cell_type": "markdown",
   "metadata": {},
   "source": [
    "Die Zukunft des Schweizer Ernährungssystems steht vor erheblichen Herausforderungen und Chancen aus globaler Perspektive. Der landwirtschaftliche Rahmen des Landes ist stark geschützt, jedoch wirtschaftlich belastet, da die Einkommen der Landwirte deutlich unter vergleichbaren Löhnen liegen. Globale Einflüsse wie der Klimawandel, der Verlust der Biodiversität und die Nachhaltigkeit von Ernährungssystemen überschneiden sich mit lokalen Herausforderungen wie der Importabhängigkeit und der begrenzten Selbstversorgung. Die Schweizer Strategie legt Wert auf Multifunktionalität, Innovation und internationale Zusammenarbeit und positioniert ihre Ernährungspolitik als Modell für Nachhaltigkeit. Allerdings erschweren tief verwurzelte Barrieren, wie die Macht großer Unternehmen und Kommunikationskrisen, transformative Fortschritte. Basisbewegungen und Bürgerversammlungen spielen eine entscheidende Rolle bei der Förderung inklusiver, systemischer Veränderungen. Der Ausgleich zwischen Protektionismus und Offenheit sowie zwischen ökologischen Zielen und wirtschaftlicher Rentabilität wird entscheidend sein, um ein widerstandsfähiges und global bewusstes Ernährungssystem zu erreichen."
   ]
  },
  {
   "cell_type": "markdown",
   "metadata": {},
   "source": [
    "L’avenir du système alimentaire suisse fait face à des défis importants et à des opportunités dans une perspective globale. Le cadre agricole du pays est fortement protégé, mais économiquement sous pression, avec des revenus agricoles nettement inférieurs aux salaires comparables. Les influences mondiales, telles que le changement climatique, la perte de biodiversité et la durabilité des systèmes alimentaires, se croisent avec des contraintes locales, notamment la dépendance aux importations et une autosuffisance limitée. La stratégie suisse met l’accent sur la multifonctionnalité, l’innovation et la coopération internationale, positionnant ainsi sa politique alimentaire comme un modèle de durabilité. Cependant, des obstacles profondément ancrés, tels que le pouvoir des grandes entreprises et les crises de communication, limitent les avancées transformatrices. Les mouvements de base et les assemblées citoyennes jouent un rôle crucial dans la promotion de changements systémiques inclusifs. Trouver un équilibre entre protectionnisme et ouverture, ainsi qu’entre objectifs écologiques et viabilité économique, sera essentiel pour construire un système alimentaire résilient et conscient des enjeux mondiaux."
   ]
  },
  {
   "cell_type": "markdown",
   "metadata": {},
   "source": [
    "Il futuro del sistema alimentare svizzero affronta sfide significative e opportunità da una prospettiva globale. Il quadro agricolo del paese è altamente protetto ma economicamente sotto pressione, con redditi agricoli significativamente inferiori ai salari comparabili. Influenze globali, come il cambiamento climatico, la perdita di biodiversità e la sostenibilità dei sistemi alimentari, si intrecciano con sfide locali, tra cui la dipendenza dalle importazioni e una limitata autosufficienza. La strategia svizzera pone l'accento sulla multifunzionalità, l'innovazione e la cooperazione internazionale, posizionando la sua politica alimentare come un modello di sostenibilità. Tuttavia, ostacoli radicati, come il potere delle grandi aziende e le crisi di comunicazione, limitano i progressi trasformativi. I movimenti di base e le assemblee cittadine svolgono un ruolo cruciale nel promuovere cambiamenti sistemici inclusivi. Bilanciare protezionismo e apertura, così come obiettivi ecologici e sostenibilità economica, sarà fondamentale per realizzare un sistema alimentare resiliente e consapevole a livello globale."
   ]
  },
  {
   "cell_type": "markdown",
   "metadata": {},
   "source": [
    "### Add to DF"
   ]
  },
  {
   "cell_type": "code",
   "execution_count": null,
   "metadata": {},
   "outputs": [],
   "source": [
    "# Define the paragraphs\n",
    "paragraphs = [\n",
    "    \"\"\"Die Zukunft des Schweizer Ernährungssystems steht vor erheblichen Herausforderungen und Chancen aus globaler Perspektive. Der landwirtschaftliche Rahmen des Landes ist stark geschützt, jedoch wirtschaftlich belastet, da die Einkommen der Landwirte deutlich unter vergleichbaren Löhnen liegen. Globale Einflüsse wie der Klimawandel, der Verlust der Biodiversität und die Nachhaltigkeit von Ernährungssystemen überschneiden sich mit lokalen Herausforderungen wie der Importabhängigkeit und der begrenzten Selbstversorgung. Die Schweizer Strategie legt Wert auf Multifunktionalität, Innovation und internationale Zusammenarbeit und positioniert ihre Ernährungspolitik als Modell für Nachhaltigkeit. Allerdings erschweren tief verwurzelte Barrieren, wie die Macht großer Unternehmen und Kommunikationskrisen, transformative Fortschritte. Basisbewegungen und Bürgerversammlungen spielen eine entscheidende Rolle bei der Förderung inklusiver, systemischer Veränderungen. Der Ausgleich zwischen Protektionismus und Offenheit sowie zwischen ökologischen Zielen und wirtschaftlicher Rentabilität wird entscheidend sein, um ein widerstandsfähiges und global bewusstes Ernährungssystem zu erreichen.\"\"\",\n",
    "\n",
    "    \"L’avenir du système alimentaire suisse fait face à des défis importants et à des opportunités dans une perspective globale. Le cadre agricole du pays est fortement protégé, mais économiquement sous pression, avec des revenus agricoles nettement inférieurs aux salaires comparables. Les influences mondiales, telles que le changement climatique, la perte de biodiversité et la durabilité des systèmes alimentaires, se croisent avec des contraintes locales, notamment la dépendance aux importations et une autosuffisance limitée. La stratégie suisse met l’accent sur la multifonctionnalité, l’innovation et la coopération internationale, positionnant ainsi sa politique alimentaire comme un modèle de durabilité. Cependant, des obstacles profondément ancrés, tels que le pouvoir des grandes entreprises et les crises de communication, limitent les avancées transformatrices. Les mouvements de base et les assemblées citoyennes jouent un rôle crucial dans la promotion de changements systémiques inclusifs. Trouver un équilibre entre protectionnisme et ouverture, ainsi qu’entre objectifs écologiques et viabilité économique, sera essentiel pour construire un système alimentaire résilient et conscient des enjeux mondiaux.\",\n",
    "\n",
    "    \"\"\"Il futuro del sistema alimentare svizzero affronta sfide significative e opportunità da una prospettiva globale. Il quadro agricolo del paese è altamente protetto ma economicamente sotto pressione, con redditi agricoli significativamente inferiori ai salari comparabili. Influenze globali, come il cambiamento climatico, la perdita di biodiversità e la sostenibilità dei sistemi alimentari, si intrecciano con sfide locali, tra cui la dipendenza dalle importazioni e una limitata autosufficienza. La strategia svizzera pone l'accento sulla multifunzionalità, l'innovazione e la cooperazione internazionale, posizionando la sua politica alimentare come un modello di sostenibilità. Tuttavia, ostacoli radicati, come il potere delle grandi aziende e le crisi di comunicazione, limitano i progressi trasformativi. I movimenti di base e le assemblee cittadine svolgono un ruolo cruciale nel promuovere cambiamenti sistemici inclusivi. Bilanciare protezionismo e apertura, così come obiettivi ecologici e sostenibilità economica, sarà fondamentale per realizzare un sistema alimentare resiliente e consapevole a livello globale.\"\"\"\n",
    "]\n",
    "\n",
    "# Add to DataFrame\n",
    "df['text_6'] = paragraphs"
   ]
  },
  {
   "cell_type": "markdown",
   "metadata": {},
   "source": [
    "## Action and Responses"
   ]
  },
  {
   "cell_type": "markdown",
   "metadata": {},
   "source": [
    "### Prompt"
   ]
  },
  {
   "cell_type": "markdown",
   "metadata": {},
   "source": [
    "You are an experienced journalist. Write a summarizing paragraph about the future of Switzerland's food system concerning the topic of \"Action and Responses\" on the basis of the attached file.\n",
    "\n",
    "(added: Merged_Full_Validation_Anchor_Background.pdf)\n",
    "\n",
    "(+ translate to german, french, italian)"
   ]
  },
  {
   "cell_type": "markdown",
   "metadata": {},
   "source": [
    "### Output"
   ]
  },
  {
   "cell_type": "markdown",
   "metadata": {},
   "source": [
    "Switzerland's food system faces a transformative crossroads shaped by complex challenges and dynamic responses. Amid growing public awareness of ecological limits and sustainable practices, initiatives like the Swiss Citizens' Assembly for Food Policy have emerged to foster inclusive deliberation and policy reform. These assemblies highlight the necessity of bridging grassroots movements, expert knowledge, and government interventions to address structural barriers, such as corporate dominance and reliance on productionist paradigms. By embracing citizen-led dialogue and sustainable strategies, Switzerland aims to balance food security, environmental sustainability, and social equity, envisioning a resilient system fit for the future."
   ]
  },
  {
   "cell_type": "markdown",
   "metadata": {},
   "source": [
    "Das Schweizer Ernährungssystem steht an einem Wendepunkt, geprägt von komplexen Herausforderungen und dynamischen Reaktionen. Angesichts eines wachsenden öffentlichen Bewusstseins für ökologische Grenzen und nachhaltige Praktiken sind Initiativen wie der Schweizer Bürger:innenrat für Ernährungspolitik entstanden, um inklusive Beratungen und politische Reformen voranzutreiben. Diese Versammlungen unterstreichen die Notwendigkeit, Basisbewegungen, Expertenwissen und staatliche Interventionen zu verbinden, um strukturelle Hürden wie die Dominanz von Konzernen und die Abhängigkeit von produktivistischen Paradigmen zu überwinden. Durch den Einsatz von bürgergeführtem Dialog und nachhaltigen Strategien strebt die Schweiz ein Ernährungssystem an, das Ernährungssicherheit, ökologische Nachhaltigkeit und soziale Gerechtigkeit in Einklang bringt und so ein zukunftsfähiges System schafft."
   ]
  },
  {
   "cell_type": "markdown",
   "metadata": {},
   "source": [
    "Le système alimentaire suisse se trouve à un carrefour décisif, marqué par des défis complexes et des réponses dynamiques. Face à une prise de conscience publique croissante des limites écologiques et des pratiques durables, des initiatives comme l'Assemblée citoyenne suisse pour la politique alimentaire ont vu le jour pour favoriser des délibérations inclusives et des réformes politiques. Ces assemblées soulignent la nécessité de relier les mouvements citoyens, les savoirs experts et les interventions étatiques afin de surmonter les obstacles structurels tels que la domination des entreprises et la dépendance aux paradigmes productivistes. En adoptant un dialogue citoyen et des stratégies durables, la Suisse vise à construire un système alimentaire qui équilibre sécurité alimentaire, durabilité environnementale et équité sociale, ouvrant ainsi la voie à un avenir résilient."
   ]
  },
  {
   "cell_type": "markdown",
   "metadata": {},
   "source": [
    "Il sistema alimentare svizzero si trova a un punto di svolta cruciale, caratterizzato da sfide complesse e risposte dinamiche. Di fronte a una crescente consapevolezza pubblica dei limiti ecologici e delle pratiche sostenibili, sono emerse iniziative come l'Assemblea dei cittadini svizzeri per la politica alimentare, volte a promuovere deliberazioni inclusive e riforme politiche. Queste assemblee evidenziano la necessità di collegare i movimenti di base, le conoscenze esperte e le politiche governative per superare ostacoli strutturali come il dominio delle grandi aziende e la dipendenza dai paradigmi produttivistici. Adottando il dialogo guidato dai cittadini e strategie sostenibili, la Svizzera punta a costruire un sistema alimentare che equilibri sicurezza alimentare, sostenibilità ambientale ed equità sociale, tracciando così un percorso verso un futuro resiliente."
   ]
  },
  {
   "cell_type": "markdown",
   "metadata": {},
   "source": [
    "### Add to DF"
   ]
  },
  {
   "cell_type": "code",
   "execution_count": null,
   "metadata": {},
   "outputs": [],
   "source": [
    "# Define the paragraphs\n",
    "paragraphs = [\n",
    "    \"\"\"Das Schweizer Ernährungssystem steht an einem Wendepunkt, geprägt von komplexen Herausforderungen und dynamischen Reaktionen. Angesichts eines wachsenden öffentlichen Bewusstseins für ökologische Grenzen und nachhaltige Praktiken sind Initiativen wie der Schweizer Bürger:innenrat für Ernährungspolitik entstanden, um inklusive Beratungen und politische Reformen voranzutreiben. Diese Versammlungen unterstreichen die Notwendigkeit, Basisbewegungen, Expertenwissen und staatliche Interventionen zu verbinden, um strukturelle Hürden wie die Dominanz von Konzernen und die Abhängigkeit von produktivistischen Paradigmen zu überwinden. Durch den Einsatz von bürgergeführtem Dialog und nachhaltigen Strategien strebt die Schweiz ein Ernährungssystem an, das Ernährungssicherheit, ökologische Nachhaltigkeit und soziale Gerechtigkeit in Einklang bringt und so ein zukunftsfähiges System schafft.\"\"\",\n",
    "\n",
    "    \"Le système alimentaire suisse se trouve à un carrefour décisif, marqué par des défis complexes et des réponses dynamiques. Face à une prise de conscience publique croissante des limites écologiques et des pratiques durables, des initiatives comme l'Assemblée citoyenne suisse pour la politique alimentaire ont vu le jour pour favoriser des délibérations inclusives et des réformes politiques. Ces assemblées soulignent la nécessité de relier les mouvements citoyens, les savoirs experts et les interventions étatiques afin de surmonter les obstacles structurels tels que la domination des entreprises et la dépendance aux paradigmes productivistes. En adoptant un dialogue citoyen et des stratégies durables, la Suisse vise à construire un système alimentaire qui équilibre sécurité alimentaire, durabilité environnementale et équité sociale, ouvrant ainsi la voie à un avenir résilient.\",\n",
    "\n",
    "    \"\"\"Il sistema alimentare svizzero si trova a un punto di svolta cruciale, caratterizzato da sfide complesse e risposte dinamiche. Di fronte a una crescente consapevolezza pubblica dei limiti ecologici e delle pratiche sostenibili, sono emerse iniziative come l'Assemblea dei cittadini svizzeri per la politica alimentare, volte a promuovere deliberazioni inclusive e riforme politiche. Queste assemblee evidenziano la necessità di collegare i movimenti di base, le conoscenze esperte e le politiche governative per superare ostacoli strutturali come il dominio delle grandi aziende e la dipendenza dai paradigmi produttivistici. Adottando il dialogo guidato dai cittadini e strategie sostenibili, la Svizzera punta a costruire un sistema alimentare che equilibri sicurezza alimentare, sostenibilità ambientale ed equità sociale, tracciando così un percorso verso un futuro resiliente.\"\"\"\n",
    "]\n",
    "\n",
    "# Add to DataFrame\n",
    "df['text_7'] = paragraphs"
   ]
  },
  {
   "cell_type": "markdown",
   "metadata": {},
   "source": [
    "## Safe DF"
   ]
  },
  {
   "cell_type": "code",
   "execution_count": null,
   "metadata": {},
   "outputs": [],
   "source": [
    "# Function to reshape the DataFrame into the desired format\n",
    "def reshape_dataframe(df):\n",
    "    reshaped_data = []\n",
    "\n",
    "    # Iterate through each row in the DataFrame\n",
    "    for index, row in df.iterrows():\n",
    "        for col in df.columns:\n",
    "            # Extract only the number from the column name (e.g., \"text_0\" -> \"0\")\n",
    "            category_number = ''.join(filter(str.isdigit, col))\n",
    "            reshaped_data.append({'category': int(category_number), 'text': row[col]})\n",
    "\n",
    "    # Create the reshaped DataFrame\n",
    "    reshaped_df = pd.DataFrame(reshaped_data, columns=['category', 'text'])\n",
    "    reshaped_df = reshaped_df.sort_values(by='category').reset_index(drop=True)\n",
    "    return reshaped_df\n",
    "\n",
    "# Reshape the DataFrame\n",
    "reshaped_df = reshape_dataframe(df)\n",
    "\n",
    "# Save the DataFrame\n",
    "reshaped_df.to_csv(\"data/01_text_data/anchors.csv\", index=True)"
   ]
  }
 ],
 "metadata": {
  "kernelspec": {
   "display_name": "dri_env",
   "language": "python",
   "name": "python3"
  },
  "language_info": {
   "codemirror_mode": {
    "name": "ipython",
    "version": 3
   },
   "file_extension": ".py",
   "mimetype": "text/x-python",
   "name": "python",
   "nbconvert_exporter": "python",
   "pygments_lexer": "ipython3",
   "version": "3.12.4"
  }
 },
 "nbformat": 4,
 "nbformat_minor": 2
}
