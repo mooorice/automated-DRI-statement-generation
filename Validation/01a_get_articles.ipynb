{
 "cells": [
  {
   "cell_type": "markdown",
   "metadata": {},
   "source": [
    "# Imports & Env"
   ]
  },
  {
   "cell_type": "code",
   "execution_count": null,
   "metadata": {},
   "outputs": [],
   "source": [
    "import requests\n",
    "import pandas as pd\n",
    "import os\n",
    "from dotenv import load_dotenv\n",
    "\n",
    "# Load environment variables from .env file\n",
    "load_dotenv()\n",
    "liri_key = os.getenv('liri_key')\n",
    "liri_secret = os.getenv('liri_secret')"
   ]
  },
  {
   "cell_type": "markdown",
   "metadata": {},
   "source": [
    "# Submitting a Query"
   ]
  },
  {
   "cell_type": "code",
   "execution_count": null,
   "metadata": {},
   "outputs": [
    {
     "name": "stdout",
     "output_type": "stream",
     "text": [
      "Status Code: 200\n",
      "{'result': 'ok', 'message': 'Query successfully submitted', 'queryId': 'fc3c4d39-ebdd-4342-8e5e-5a3e63f632c7'}\n"
     ]
    }
   ],
   "source": [
    "query_name = \"Query name\"\n",
    "query_comment = \"Query comment\"\n",
    "expiration_date = \"YYYY-MM-DD\"\n",
    "\n",
    "headers = {\n",
    "    \"X-API-Key\": liri_key,\n",
    "    \"X-API-Secret\": liri_secret\n",
    "}\n",
    "API_BASE_URL = \"https://swissdox.linguistik.uzh.ch/api\"\n",
    "API_URL_QUERY = f\"{API_BASE_URL}/query\"\n",
    "\n",
    "yaml = f\"\"\"\n",
    "    query:\n",
    "        dates:\n",
    "            - from: 2018-01-01\n",
    "              to: 2023-12-14\n",
    "        languages:\n",
    "            - fr\n",
    "            - de\n",
    "            - it\n",
    "        content:\n",
    "            OR:\n",
    "                - Lebensmittelsystem\n",
    "                - Nachhaltigkeit\n",
    "                - Landwirtschaft\n",
    "                - Klimawandel\n",
    "                - Agrarpolitik\n",
    "                - Biodiversität\n",
    "                - Lebensmittelsicherheit\n",
    "                - Regionalität\n",
    "                - Agroökologie\n",
    "                - Pestizidfreiheit\n",
    "                - Ernährung\n",
    "                - Treibhausgas\n",
    "                - Biolandbau\n",
    "                - Importabhängigkeit\n",
    "                - Ernährungspolitik\n",
    "                - Système alimentaire\n",
    "                - Durabilité\n",
    "                - Agriculture\n",
    "                - Climat\n",
    "                - Politique agricole\n",
    "                - Biodiversité\n",
    "                - Sécurité alimentaire\n",
    "                - Localité\n",
    "                - Agroécologie\n",
    "                - pesticides\n",
    "                - Alimentation\n",
    "                - Gaz à effet de serre\n",
    "                - Agriculture biologique\n",
    "                - Importation\n",
    "                - Politique alimentaire\n",
    "                - Sistema alimentare\n",
    "                - Sostenibilità\n",
    "                - Agricoltura\n",
    "                - Clima\n",
    "                - Politica agricola\n",
    "                - Biodiversità\n",
    "                - Sicurezza alimentare\n",
    "                - Località\n",
    "                - Agroecologia\n",
    "                - pesticidi\n",
    "                - Alimentazione\n",
    "                - Gas serra\n",
    "                - Agricoltura biologica\n",
    "                - Importazioni\n",
    "                - Politica alimentare\n",
    "\n",
    "    result:\n",
    "        format: TSV\n",
    "        maxResults: 10000000\n",
    "        columns:\n",
    "            - id\n",
    "            - pubtime\n",
    "            - medium_code\n",
    "            - medium_name\n",
    "            - rubric\n",
    "            - regional\n",
    "            - doctype\n",
    "            - doctype_description\n",
    "            - language\n",
    "            - char_count\n",
    "            - dateline\n",
    "            - head\n",
    "            - subhead\n",
    "            - content_id\n",
    "            - content\n",
    "    version: 1.2\n",
    "\"\"\"\n",
    "\n",
    "data = {\n",
    "    \"query\": yaml,\n",
    "    \"test\": \"0\",\n",
    "    \"name\": query_name,\n",
    "    \"comment\": query_comment,\n",
    "    \"expirationDate\": expiration_date\n",
    "}\n",
    "\n",
    "r = requests.post(\n",
    "    API_URL_QUERY,\n",
    "    headers=headers,\n",
    "    data=data\n",
    ")\n",
    "\n",
    "print(\"Status Code:\", r.status_code)\n",
    "print(r.json())"
   ]
  },
  {
   "cell_type": "markdown",
   "metadata": {},
   "source": [
    "# Checking the status of submitted queries"
   ]
  },
  {
   "cell_type": "code",
   "execution_count": null,
   "metadata": {},
   "outputs": [],
   "source": [
    "headers = {\n",
    "    \"X-API-Key\": liri_key,\n",
    "    \"X-API-Secret\": liri_secret\n",
    "}\n",
    "API_BASE_URL = \"https://swissdox.linguistik.uzh.ch/api\"\n",
    "API_URL_STATUS = f\"{API_BASE_URL}/status\"\n",
    "\n",
    "r = requests.get(\n",
    "    API_URL_STATUS,\n",
    "    headers=headers\n",
    ")\n",
    "\n",
    "# Parsing the JSON response\n",
    "api_response = r.json()\n",
    "\n",
    "# Extract name, status, and downloadUrl\n",
    "def parse_api_response(api_response):\n",
    "    # Extracting the required fields into a DataFrame\n",
    "    df = pd.DataFrame(api_response, columns=['name', 'status', 'downloadUrl'])\n",
    "    return df\n",
    "\n",
    "df_parsed = parse_api_response(api_response)\n"
   ]
  },
  {
   "cell_type": "markdown",
   "metadata": {},
   "source": [
    "# Download of the retrieved Dataset"
   ]
  },
  {
   "cell_type": "code",
   "execution_count": null,
   "metadata": {},
   "outputs": [],
   "source": [
    "# Function to get status and downloadUrl for a given name from the dataframe\n",
    "def get_status_and_download_url(df, name):\n",
    "    # Filter the dataframe for the specific name\n",
    "    result = df[df['name'] == name]\n",
    "\n",
    "    if not result.empty:\n",
    "        # Extract the status and downloadUrl\n",
    "        status = result['status'].values[0]\n",
    "        download_url = result['downloadUrl'].values[0]\n",
    "        return status, download_url\n",
    "    else:\n",
    "        return None, None\n",
    "\n",
    "name = query_name\n",
    "status, download_url = get_status_and_download_url(df_parsed, name)\n",
    "\n",
    "print(\"Name:\", name)\n",
    "print(\"Status:\", status)\n",
    "print(\"Download URL:\", download_url)"
   ]
  },
  {
   "cell_type": "markdown",
   "metadata": {},
   "source": [
    "# Saving"
   ]
  },
  {
   "cell_type": "code",
   "execution_count": null,
   "metadata": {},
   "outputs": [],
   "source": [
    "# Ensure the directory exists\n",
    "download_folder = \"data/00_downloads\"\n",
    "os.makedirs(download_folder, exist_ok=True)\n",
    "\n",
    "# Path to the file within the download folder\n",
    "file_path = os.path.join(download_folder, \"dataset.tsv.xz\")\n",
    "\n",
    "# API request to download the file\n",
    "r = requests.get(download_url, headers=headers)\n",
    "if r.status_code == 200:\n",
    "    print(\"Size of file: %.2f KB\" % (len(r.content)/1024))\n",
    "\n",
    "    # Save the file to the new folder\n",
    "    with open(file_path, \"wb\") as fp:\n",
    "        fp.write(r.content)\n",
    "    print(f\"File saved to {file_path}\")\n",
    "else:\n",
    "    print(r.text)"
   ]
  }
 ],
 "metadata": {
  "kernelspec": {
   "display_name": "dri_env",
   "language": "python",
   "name": "python3"
  },
  "language_info": {
   "codemirror_mode": {
    "name": "ipython",
    "version": 3
   },
   "file_extension": ".py",
   "mimetype": "text/x-python",
   "name": "python",
   "nbconvert_exporter": "python",
   "pygments_lexer": "ipython3",
   "version": "3.12.4"
  }
 },
 "nbformat": 4,
 "nbformat_minor": 2
}
