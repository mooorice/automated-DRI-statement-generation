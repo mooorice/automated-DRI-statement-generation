{
 "cells": [
  {
   "cell_type": "code",
   "execution_count": 1,
   "metadata": {},
   "outputs": [],
   "source": [
    "from sklearn.feature_extraction.text import CountVectorizer\n",
    "import nltk\n",
    "from nltk.corpus import stopwords\n",
    "import json\n"
   ]
  },
  {
   "cell_type": "code",
   "execution_count": null,
   "metadata": {},
   "outputs": [],
   "source": [
    "# Download stopwords if not already available\n",
    "nltk.download('stopwords')\n",
    "\n",
    "# Create custom stop word list\n",
    "german_stops = set(stopwords.words('german'))\n",
    "french_stops = set(stopwords.words('french'))\n",
    "italian_stops = set(stopwords.words('italian'))\n",
    "\n",
    "# Combine stop words from all three languages\n",
    "custom_stops = list(german_stops.union(french_stops).union(italian_stops))"
   ]
  },
  {
   "cell_type": "code",
   "execution_count": null,
   "metadata": {},
   "outputs": [],
   "source": [
    "# Save custom stop words to a JSON file\n",
    "with open(\"custom_stop_words.json\", \"w\", encoding=\"utf-8\") as file:\n",
    "    json.dump(custom_stops, file, ensure_ascii=False, indent=4)\n",
    "\n",
    "print(\"Custom stop words saved to custom_stop_words.json\")"
   ]
  }
 ],
 "metadata": {
  "kernelspec": {
   "display_name": "dri_env",
   "language": "python",
   "name": "python3"
  },
  "language_info": {
   "codemirror_mode": {
    "name": "ipython",
    "version": 3
   },
   "file_extension": ".py",
   "mimetype": "text/x-python",
   "name": "python",
   "nbconvert_exporter": "python",
   "pygments_lexer": "ipython3",
   "version": "3.12.4"
  }
 },
 "nbformat": 4,
 "nbformat_minor": 2
}
